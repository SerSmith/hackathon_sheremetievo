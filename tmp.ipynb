{
 "metadata": {
  "language_info": {
   "codemirror_mode": {
    "name": "ipython",
    "version": 3
   },
   "file_extension": ".py",
   "mimetype": "text/x-python",
   "name": "python",
   "nbconvert_exporter": "python",
   "pygments_lexer": "ipython3",
   "version": "3.9.4"
  },
  "orig_nbformat": 2,
  "kernelspec": {
   "name": "python3",
   "display_name": "Python 3.9.4 64-bit ('hack_sheremetievo_env': pyenv)",
   "metadata": {
    "interpreter": {
     "hash": "9f00ea0e095c11eb81be82a743736a630aea8e79902eb6834d6869e520db42df"
    }
   }
  }
 },
 "nbformat": 4,
 "nbformat_minor": 2,
 "cells": [
  {
   "cell_type": "code",
   "execution_count": 1,
   "metadata": {},
   "outputs": [
    {
     "output_type": "stream",
     "name": "stdout",
     "text": [
      "2\n"
     ]
    }
   ],
   "source": [
    "print(2)"
   ]
  },
  {
   "cell_type": "code",
   "execution_count": 110,
   "metadata": {},
   "outputs": [],
   "source": [
    "del model"
   ]
  },
  {
   "cell_type": "code",
   "execution_count": 17,
   "metadata": {},
   "outputs": [],
   "source": [
    "import pandas as pd \n",
    "from datetime import datetime, timedelta\n",
    "import model"
   ]
  },
  {
   "cell_type": "code",
   "execution_count": 2,
   "metadata": {},
   "outputs": [
    {
     "output_type": "stream",
     "name": "stdout",
     "text": [
      "Collecting pandas\n",
      "  Downloading pandas-1.3.3-cp39-cp39-macosx_10_9_x86_64.whl (11.6 MB)\n",
      "\u001b[K     |████████████████████████████████| 11.6 MB 478 kB/s \n",
      "\u001b[?25hCollecting numpy>=1.17.3\n",
      "  Downloading numpy-1.21.2-cp39-cp39-macosx_10_9_x86_64.whl (17.0 MB)\n",
      "\u001b[K     |████████████████████████████████| 17.0 MB 544 kB/s \n",
      "\u001b[?25hCollecting pytz>=2017.3\n",
      "  Downloading pytz-2021.3-py2.py3-none-any.whl (503 kB)\n",
      "\u001b[K     |████████████████████████████████| 503 kB 367 kB/s \n",
      "\u001b[?25hRequirement already satisfied: python-dateutil>=2.7.3 in /Users/marina/.pyenv/versions/3.9.4/envs/hack_sheremetievo_env/lib/python3.9/site-packages (from pandas) (2.8.2)\n",
      "Requirement already satisfied: six>=1.5 in /Users/marina/.pyenv/versions/3.9.4/envs/hack_sheremetievo_env/lib/python3.9/site-packages (from python-dateutil>=2.7.3->pandas) (1.16.0)\n",
      "Installing collected packages: numpy, pytz, pandas\n",
      "Successfully installed numpy-1.21.2 pandas-1.3.3 pytz-2021.3\n",
      "\u001b[33mWARNING: You are using pip version 20.2.3; however, version 21.3 is available.\n",
      "You should consider upgrading via the '/Users/marina/.pyenv/versions/3.9.4/envs/hack_sheremetievo_env/bin/python3.9 -m pip install --upgrade pip' command.\u001b[0m\n"
     ]
    }
   ],
   "source": [
    "!pip install pandas"
   ]
  },
  {
   "cell_type": "code",
   "execution_count": 3,
   "metadata": {},
   "outputs": [],
   "source": [
    "d = model.DataExtended()\n",
    "df = d.get_flights()"
   ]
  },
  {
   "cell_type": "code",
   "execution_count": 16,
   "metadata": {},
   "outputs": [
    {
     "output_type": "execute_result",
     "data": {
      "text/plain": [
       " 17, 1, 35),\n",
       " 561: datetime.datetime(2019, 5, 17, 9, 30),\n",
       " 562: datetime.datetime(2019, 5, 17, 10, 15),\n",
       " 563: datetime.datetime(2019, 5, 17, 18, 35),\n",
       " 564: datetime.datetime(2019, 5, 17, 1, 55),\n",
       " 565: datetime.datetime(2019, 5, 17, 10, 40),\n",
       " 566: datetime.datetime(2019, 5, 17, 23, 5),\n",
       " 567: datetime.datetime(2019, 5, 17, 8, 55),\n",
       " 568: datetime.datetime(2019, 5, 17, 22, 15),\n",
       " 569: datetime.datetime(2019, 5, 17, 8, 0),\n",
       " 570: datetime.datetime(2019, 5, 17, 0, 55),\n",
       " 571: datetime.datetime(2019, 5, 17, 10, 25),\n",
       " 572: datetime.datetime(2019, 5, 17, 8, 15),\n",
       " 573: datetime.datetime(2019, 5, 17, 13, 40),\n",
       " 574: datetime.datetime(2019, 5, 17, 20, 35),\n",
       " 575: datetime.datetime(2019, 5, 17, 6, 10),\n",
       " 576: datetime.datetime(2019, 5, 17, 1, 5),\n",
       " 577: datetime.datetime(2019, 5, 17, 14, 15),\n",
       " 578: datetime.datetime(2019, 5, 17, 6, 25),\n",
       " 579: datetime.datetime(2019, 5, 17, 10, 50),\n",
       " 580: datetime.datetime(2019, 5, 17, 9, 15),\n",
       " 581: datetime.datetime(2019, 5, 17, 15, 30),\n",
       " 582: datetime.datetime(2019, 5, 17, 11, 45),\n",
       " 583: datetime.datetime(2019, 5, 17, 18, 15),\n",
       " 584: datetime.datetime(2019, 5, 17, 14, 55),\n",
       " 585: datetime.datetime(2019, 5, 17, 21, 20),\n",
       " 586: datetime.datetime(2019, 5, 17, 21, 0),\n",
       " 587: datetime.datetime(2019, 5, 17, 5, 0),\n",
       " 588: datetime.datetime(2019, 5, 17, 13, 35),\n",
       " 589: datetime.datetime(2019, 5, 17, 19, 50),\n",
       " 590: datetime.datetime(2019, 5, 17, 6, 10),\n",
       " 591: datetime.datetime(2019, 5, 17, 12, 20),\n",
       " 592: datetime.datetime(2019, 5, 17, 0, 40),\n",
       " 593: datetime.datetime(2019, 5, 17, 8, 35),\n",
       " 594: datetime.datetime(2019, 5, 17, 6, 15),\n",
       " 595: datetime.datetime(2019, 5, 17, 14, 10),\n",
       " 596: datetime.datetime(2019, 5, 17, 7, 30),\n",
       " 597: datetime.datetime(2019, 5, 17, 13, 0),\n",
       " 598: datetime.datetime(2019, 5, 17, 7, 25),\n",
       " 599: datetime.datetime(2019, 5, 17, 13, 25),\n",
       " 600: datetime.datetime(2019, 5, 17, 22, 50),\n",
       " 601: datetime.datetime(2019, 5, 17, 7, 0),\n",
       " 602: datetime.datetime(2019, 5, 17, 17, 25),\n",
       " 603: datetime.datetime(2019, 5, 17, 23, 55),\n",
       " 604: datetime.datetime(2019, 5, 17, 14, 25),\n",
       " 605: datetime.datetime(2019, 5, 17, 19, 25),\n",
       " 606: datetime.datetime(2019, 5, 17, 15, 40),\n",
       " 607: datetime.datetime(2019, 5, 17, 10, 15),\n",
       " 608: datetime.datetime(2019, 5, 17, 20, 35),\n",
       " 609: datetime.datetime(2019, 5, 17, 15, 50),\n",
       " 610: datetime.datetime(2019, 5, 17, 17, 15),\n",
       " 611: datetime.datetime(2019, 5, 17, 10, 35),\n",
       " 612: datetime.datetime(2019, 5, 17, 16, 45),\n",
       " 613: datetime.datetime(2019, 5, 17, 12, 40),\n",
       " 614: datetime.datetime(2019, 5, 17, 17, 45),\n",
       " 615: datetime.datetime(2019, 5, 17, 18, 45),\n",
       " 616: datetime.datetime(2019, 5, 17, 22, 25),\n",
       " 617: datetime.datetime(2019, 5, 17, 13, 40),\n",
       " 618: datetime.datetime(2019, 5, 17, 10, 0),\n",
       " 619: datetime.datetime(2019, 5, 17, 14, 50),\n",
       " 620: datetime.datetime(2019, 5, 17, 22, 25),\n",
       " 621: datetime.datetime(2019, 5, 17, 6, 25),\n",
       " 622: datetime.datetime(2019, 5, 17, 15, 5),\n",
       " 623: datetime.datetime(2019, 5, 17, 20, 20),\n",
       " 624: datetime.datetime(2019, 5, 17, 2, 50),\n",
       " 625: datetime.datetime(2019, 5, 17, 9, 55),\n",
       " 626: datetime.datetime(2019, 5, 17, 20, 20),\n",
       " 627: datetime.datetime(2019, 5, 17, 9, 35),\n",
       " 628: datetime.datetime(2019, 5, 17, 19, 5),\n",
       " 629: datetime.datetime(2019, 5, 17, 8, 35),\n",
       " 630: datetime.datetime(2019, 5, 17, 12, 15),\n",
       " 631: datetime.datetime(2019, 5, 17, 18, 10),\n",
       " 632: datetime.datetime(2019, 5, 17, 21, 55),\n",
       " 633: datetime.datetime(2019, 5, 17, 22, 0),\n",
       " 634: datetime.datetime(2019, 5, 17, 7, 40),\n",
       " 635: datetime.datetime(2019, 5, 17, 13, 20),\n",
       " 636: datetime.datetime(2019, 5, 17, 17, 35),\n",
       " 637: datetime.datetime(2019, 5, 17, 16, 50),\n",
       " 638: datetime.datetime(2019, 5, 17, 20, 45),\n",
       " 639: datetime.datetime(2019, 5, 17, 1, 35),\n",
       " 640: datetime.datetime(2019, 5, 17, 22, 45),\n",
       " 641: datetime.datetime(2019, 5, 17, 5, 55),\n",
       " 642: datetime.datetime(2019, 5, 17, 6, 10),\n",
       " 643: datetime.datetime(2019, 5, 17, 23, 50),\n",
       " 644: datetime.datetime(2019, 5, 17, 7, 15),\n",
       " 645: datetime.datetime(2019, 5, 17, 9, 55),\n",
       " 646: datetime.datetime(2019, 5, 17, 17, 20),\n",
       " 647: datetime.datetime(2019, 5, 17, 6, 30),\n",
       " 648: datetime.datetime(2019, 5, 17, 13, 10),\n",
       " 649: datetime.datetime(2019, 5, 17, 9, 45),\n",
       " 650: datetime.datetime(2019, 5, 17, 16, 45),\n",
       " 651: datetime.datetime(2019, 5, 17, 16, 15),\n",
       " 652: datetime.datetime(2019, 5, 17, 23, 20),\n",
       " 653: datetime.datetime(2019, 5, 17, 2, 5),\n",
       " 654: datetime.datetime(2019, 5, 17, 9, 40),\n",
       " 655: datetime.datetime(2019, 5, 17, 23, 40),\n",
       " 656: datetime.datetime(2019, 5, 17, 7, 5),\n",
       " 657: datetime.datetime(2019, 5, 17, 20, 40),\n",
       " 658: datetime.datetime(2019, 5, 17, 4, 45),\n",
       " 659: datetime.datetime(2019, 5, 17, 20, 45),\n",
       " 660: datetime.datetime(2019, 5, 17, 7, 5),\n",
       " 661: datetime.datetime(2019, 5, 17, 8, 55),\n",
       " 662: datetime.datetime(2019, 5, 17, 7, 40),\n",
       " 663: datetime.datetime(2019, 5, 17, 17, 50),\n",
       " 664: datetime.datetime(2019, 5, 17, 21, 45),\n",
       " 665: datetime.datetime(2019, 5, 17, 7, 40),\n",
       " 666: datetime.datetime(2019, 5, 17, 11, 15),\n",
       " 667: datetime.datetime(2019, 5, 17, 18, 5),\n",
       " 668: datetime.datetime(2019, 5, 17, 22, 10),\n",
       " 669: datetime.datetime(2019, 5, 17, 4, 50),\n",
       " 670: datetime.datetime(2019, 5, 17, 20, 50),\n",
       " 671: datetime.datetime(2019, 5, 17, 7, 10),\n",
       " 672: datetime.datetime(2019, 5, 17, 22, 25),\n",
       " 673: datetime.datetime(2019, 5, 17, 6, 55),\n",
       " 674: datetime.datetime(2019, 5, 17, 7, 45),\n",
       " 675: datetime.datetime(2019, 5, 17, 18, 20),\n",
       " 676: datetime.datetime(2019, 5, 17, 21, 0),\n",
       " 677: datetime.datetime(2019, 5, 17, 7, 35),\n",
       " 678: datetime.datetime(2019, 5, 17, 0, 10),\n",
       " 679: datetime.datetime(2019, 5, 17, 6, 35),\n",
       " 680: datetime.datetime(2019, 5, 17, 0, 10),\n",
       " 681: datetime.datetime(2019, 5, 17, 7, 0),\n",
       " 682: datetime.datetime(2019, 5, 17, 23, 50),\n",
       " 683: datetime.datetime(2019, 5, 17, 8, 5),\n",
       " 684: datetime.datetime(2019, 5, 17, 1, 20),\n",
       " 685: datetime.datetime(2019, 5, 17, 7, 25),\n",
       " 686: datetime.datetime(2019, 5, 17, 23, 35),\n",
       " 687: datetime.datetime(2019, 5, 17, 7, 20),\n",
       " 688: datetime.datetime(2019, 5, 17, 9, 20),\n",
       " 689: datetime.datetime(2019, 5, 17, 17, 35),\n",
       " 690: datetime.datetime(2019, 5, 17, 10, 40),\n",
       " 691: datetime.datetime(2019, 5, 17, 15, 40),\n",
       " 692: datetime.datetime(2019, 5, 17, 18, 5),\n",
       " 693: datetime.datetime(2019, 5, 17, 23, 15),\n",
       " 694: datetime.datetime(2019, 5, 17, 7, 45),\n",
       " 695: datetime.datetime(2019, 5, 17, 12, 50),\n",
       " 696: datetime.datetime(2019, 5, 17, 7, 30),\n",
       " 697: datetime.datetime(2019, 5, 17, 13, 50),\n",
       " 698: datetime.datetime(2019, 5, 17, 10, 10),\n",
       " 699: datetime.datetime(2019, 5, 17, 16, 35),\n",
       " 700: datetime.datetime(2019, 5, 17, 14, 55),\n",
       " 701: datetime.datetime(2019, 5, 17, 21, 25),\n",
       " 702: datetime.datetime(2019, 5, 17, 19, 15),\n",
       " 703: datetime.datetime(2019, 5, 17, 4, 30),\n",
       " 704: datetime.datetime(2019, 5, 17, 13, 0),\n",
       " 705: datetime.datetime(2019, 5, 17, 19, 30),\n",
       " 706: datetime.datetime(2019, 5, 17, 17, 0),\n",
       " 707: datetime.datetime(2019, 5, 17, 23, 25),\n",
       " 708: datetime.datetime(2019, 5, 17, 10, 10),\n",
       " 709: datetime.datetime(2019, 5, 17, 16, 30),\n",
       " 710: datetime.datetime(2019, 5, 17, 7, 5),\n",
       " 711: datetime.datetime(2019, 5, 17, 13, 25),\n",
       " 712: datetime.datetime(2019, 5, 17, 9, 20),\n",
       " 713: datetime.datetime(2019, 5, 17, 16, 25),\n",
       " 714: datetime.datetime(2019, 5, 17, 20, 55),\n",
       " 715: datetime.datetime(2019, 5, 17, 5, 5),\n",
       " 716: datetime.datetime(2019, 5, 17, 10, 5),\n",
       " 717: datetime.datetime(2019, 5, 17, 17, 5),\n",
       " 718: datetime.datetime(2019, 5, 17, 15, 10),\n",
       " 719: datetime.datetime(2019, 5, 17, 23, 0),\n",
       " 720: datetime.datetime(2019, 5, 17, 8, 15),\n",
       " 721: datetime.datetime(2019, 5, 17, 15, 35),\n",
       " 722: datetime.datetime(2019, 5, 17, 20, 0),\n",
       " 723: datetime.datetime(2019, 5, 17, 5, 40),\n",
       " 724: datetime.datetime(2019, 5, 17, 9, 55),\n",
       " 725: datetime.datetime(2019, 5, 17, 18, 45),\n",
       " 726: datetime.datetime(2019, 5, 17, 14, 15),\n",
       " 727: datetime.datetime(2019, 5, 17, 23, 15),\n",
       " 728: datetime.datetime(2019, 5, 17, 10, 15),\n",
       " 729: datetime.datetime(2019, 5, 17, 17, 10),\n",
       " 730: datetime.datetime(2019, 5, 17, 20, 15),\n",
       " 731: datetime.datetime(2019, 5, 17, 4, 35),\n",
       " 732: datetime.datetime(2019, 5, 17, 17, 20),\n",
       " 733: datetime.datetime(2019, 5, 17, 0, 10),\n",
       " 734: datetime.datetime(2019, 5, 17, 11, 50),\n",
       " 735: datetime.datetime(2019, 5, 17, 16, 10),\n",
       " 736: datetime.datetime(2019, 5, 17, 8, 30),\n",
       " 737: datetime.datetime(2019, 5, 17, 8, 45),\n",
       " 738: datetime.datetime(2019, 5, 17, 13, 15),\n",
       " 739: datetime.datetime(2019, 5, 17, 21, 15),\n",
       " 740: datetime.datetime(2019, 5, 17, 6, 35),\n",
       " 741: datetime.datetime(2019, 5, 17, 8, 5),\n",
       " 742: datetime.datetime(2019, 5, 17, 17, 15),\n",
       " 743: datetime.datetime(2019, 5, 17, 19, 25),\n",
       " 744: datetime.datetime(2019, 5, 17, 4, 20),\n",
       " 745: datetime.datetime(2019, 5, 17, 22, 55),\n",
       " 746: datetime.datetime(2019, 5, 17, 16, 15),\n",
       " 747: datetime.datetime(2019, 5, 17, 0, 25),\n",
       " 748: datetime.datetime(2019, 5, 17, 10, 50),\n",
       " 749: datetime.datetime(2019, 5, 17, 20, 35),\n",
       " 750: datetime.datetime(2019, 5, 17, 7, 50),\n",
       " 751: datetime.datetime(2019, 5, 17, 16, 0),\n",
       " 752: datetime.datetime(2019, 5, 17, 14, 5),\n",
       " 753: datetime.datetime(2019, 5, 17, 22, 25),\n",
       " 754: datetime.datetime(2019, 5, 17, 21, 15),\n",
       " 755: datetime.datetime(2019, 5, 17, 6, 5),\n",
       " 756: datetime.datetime(2019, 5, 17, 10, 0),\n",
       " 757: datetime.datetime(2019, 5, 17, 18, 25),\n",
       " 758: datetime.datetime(2019, 5, 17, 17, 40),\n",
       " 759: datetime.datetime(2019, 5, 17, 4, 5),\n",
       " 760: datetime.datetime(2019, 5, 17, 9, 35),\n",
       " 761: datetime.datetime(2019, 5, 17, 18, 10),\n",
       " 762: datetime.datetime(2019, 5, 17, 20, 15),\n",
       " 763: datetime.datetime(2019, 5, 17, 5, 25),\n",
       " 764: datetime.datetime(2019, 5, 17, 11, 20),\n",
       " 765: datetime.datetime(2019, 5, 17, 18, 50),\n",
       " 766: datetime.datetime(2019, 5, 17, 14, 25),\n",
       " 767: datetime.datetime(2019, 5, 17, 21, 50),\n",
       " 768: datetime.datetime(2019, 5, 17, 15, 55),\n",
       " 769: datetime.datetime(2019, 5, 17, 23, 50),\n",
       " 770: datetime.datetime(2019, 5, 17, 16, 10),\n",
       " 771: datetime.datetime(2019, 5, 17, 20, 45),\n",
       " 772: datetime.datetime(2019, 5, 17, 8, 15),\n",
       " 773: datetime.datetime(2019, 5, 17, 16, 10),\n",
       " 774: datetime.datetime(2019, 5, 17, 10, 20),\n",
       " 775: datetime.datetime(2019, 5, 17, 16, 40),\n",
       " 776: datetime.datetime(2019, 5, 17, 20, 25),\n",
       " 777: datetime.datetime(2019, 5, 17, 9, 5),\n",
       " 778: datetime.datetime(2019, 5, 17, 15, 40),\n",
       " 779: datetime.datetime(2019, 5, 17, 19, 45),\n",
       " 780: datetime.datetime(2019, 5, 17, 4, 25),\n",
       " 781: datetime.datetime(2019, 5, 17, 18, 20),\n",
       " 782: datetime.datetime(2019, 5, 17, 22, 45),\n",
       " 783: datetime.datetime(2019, 5, 17, 8, 30),\n",
       " 784: datetime.datetime(2019, 5, 17, 13, 5),\n",
       " 785: datetime.datetime(2019, 5, 17, 10, 40),\n",
       " 786: datetime.datetime(2019, 5, 17, 15, 10),\n",
       " 787: datetime.datetime(2019, 5, 17, 10, 25),\n",
       " 788: datetime.datetime(2019, 5, 17, 15, 50),\n",
       " 789: datetime.datetime(2019, 5, 17, 18, 5),\n",
       " 790: datetime.datetime(2019, 5, 17, 22, 20),\n",
       " 791: datetime.datetime(2019, 5, 17, 10, 15),\n",
       " 792: datetime.datetime(2019, 5, 17, 18, 30),\n",
       " 793: datetime.datetime(2019, 5, 17, 18, 50),\n",
       " 794: datetime.datetime(2019, 5, 17, 2, 35),\n",
       " 795: datetime.datetime(2019, 5, 17, 7, 55),\n",
       " 796: datetime.datetime(2019, 5, 17, 15, 35),\n",
       " 797: datetime.datetime(2019, 5, 17, 9, 20),\n",
       " 798: datetime.datetime(2019, 5, 17, 15, 45),\n",
       " 799: datetime.datetime(2019, 5, 17, 15, 25),\n",
       " 800: datetime.datetime(2019, 5, 17, 21, 45),\n",
       " 801: datetime.datetime(2019, 5, 17, 19, 35),\n",
       " 802: datetime.datetime(2019, 5, 17, 4, 0),\n",
       " 803: datetime.datetime(2019, 5, 17, 11, 20),\n",
       " 804: datetime.datetime(2019, 5, 17, 18, 0),\n",
       " 805: datetime.datetime(2019, 5, 17, 6, 50),\n",
       " 806: datetime.datetime(2019, 5, 17, 14, 15),\n",
       " 807: datetime.datetime(2019, 5, 17, 9, 25),\n",
       " 808: datetime.datetime(2019, 5, 17, 16, 40),\n",
       " 809: datetime.datetime(2019, 5, 17, 14, 30),\n",
       " 810: datetime.datetime(2019, 5, 17, 21, 40),\n",
       " 811: datetime.datetime(2019, 5, 17, 10, 55),\n",
       " 812: datetime.datetime(2019, 5, 17, 18, 35),\n",
       " 813: datetime.datetime(2019, 5, 17, 19, 0),\n",
       " 814: datetime.datetime(2019, 5, 17, 2, 50),\n",
       " 815: datetime.datetime(2019, 5, 17, 10, 45),\n",
       " 816: datetime.datetime(2019, 5, 17, 17, 45),\n",
       " 817: datetime.datetime(2019, 5, 17, 11, 25),\n",
       " 818: datetime.datetime(2019, 5, 17, 17, 55),\n",
       " 819: datetime.datetime(2019, 5, 17, 10, 35),\n",
       " 820: datetime.datetime(2019, 5, 17, 17, 15),\n",
       " 821: datetime.datetime(2019, 5, 17, 16, 5),\n",
       " 822: datetime.datetime(2019, 5, 17, 22, 45),\n",
       " 823: datetime.datetime(2019, 5, 17, 16, 45),\n",
       " 824: datetime.datetime(2019, 5, 17, 23, 25),\n",
       " 825: datetime.datetime(2019, 5, 17, 20, 0),\n",
       " 826: datetime.datetime(2019, 5, 17, 4, 10),\n",
       " 827: datetime.datetime(2019, 5, 17, 12, 0),\n",
       " 828: datetime.datetime(2019, 5, 17, 18, 40),\n",
       " 829: datetime.datetime(2019, 5, 17, 8, 45),\n",
       " 830: datetime.datetime(2019, 5, 17, 17, 30),\n",
       " 831: datetime.datetime(2019, 5, 17, 20, 0),\n",
       " 832: datetime.datetime(2019, 5, 17, 4, 45),\n",
       " 833: datetime.datetime(2019, 5, 17, 8, 55),\n",
       " 834: datetime.datetime(2019, 5, 17, 17, 25),\n",
       " 835: datetime.datetime(2019, 5, 17, 17, 55),\n",
       " 836: datetime.datetime(2019, 5, 17, 2, 10),\n",
       " 837: datetime.datetime(2019, 5, 17, 18, 10),\n",
       " 838: datetime.datetime(2019, 5, 17, 23, 30),\n",
       " 839: datetime.datetime(2019, 5, 17, 9, 50),\n",
       " 840: datetime.datetime(2019, 5, 17, 18, 0),\n",
       " 841: datetime.datetime(2019, 5, 17, 18, 25),\n",
       " 842: datetime.datetime(2019, 5, 17, 2, 50),\n",
       " 843: datetime.datetime(2019, 5, 17, 4, 40),\n",
       " 844: datetime.datetime(2019, 5, 17, 8, 35),\n",
       " 845: datetime.datetime(2019, 5, 17, 17, 30),\n",
       " 846: datetime.datetime(2019, 5, 17, 18, 40),\n",
       " 847: datetime.datetime(2019, 5, 17, 11, 25),\n",
       " 848: datetime.datetime(2019, 5, 17, 20, 15),\n",
       " 849: datetime.datetime(2019, 5, 17, 14, 30),\n",
       " 850: datetime.datetime(2019, 5, 17, 23, 5),\n",
       " 851: datetime.datetime(2019, 5, 17, 8, 25),\n",
       " 852: datetime.datetime(2019, 5, 17, 16, 45),\n",
       " 853: datetime.datetime(2019, 5, 17, 14, 40),\n",
       " 854: datetime.datetime(2019, 5, 17, 22, 55),\n",
       " 855: datetime.datetime(2019, 5, 17, 19, 55),\n",
       " 856: datetime.datetime(2019, 5, 17, 5, 0),\n",
       " 857: datetime.datetime(2019, 5, 17, 6, 50),\n",
       " 858: datetime.datetime(2019, 5, 17, 15, 5),\n",
       " 859: datetime.datetime(2019, 5, 17, 10, 20),\n",
       " 860: datetime.datetime(2019, 5, 17, 19, 10),\n",
       " 861: datetime.datetime(2019, 5, 17, 19, 45),\n",
       " 862: datetime.datetime(2019, 5, 17, 3, 30),\n",
       " 863: datetime.datetime(2019, 5, 17, 7, 50),\n",
       " 864: datetime.datetime(2019, 5, 17, 15, 45),\n",
       " 865: datetime.datetime(2019, 5, 17, 20, 5),\n",
       " 866: datetime.datetime(2019, 5, 17, 4, 25),\n",
       " 867: datetime.datetime(2019, 5, 17, 19, 30),\n",
       " 868: datetime.datetime(2019, 5, 17, 10, 30),\n",
       " 869: datetime.datetime(2019, 5, 17, 7, 35),\n",
       " 870: datetime.datetime(2019, 5, 17, 16, 20),\n",
       " 871: datetime.datetime(2019, 5, 17, 10, 5),\n",
       " 872: datetime.datetime(2019, 5, 17, 18, 55),\n",
       " 873: datetime.datetime(2019, 5, 17, 14, 5),\n",
       " 874: datetime.datetime(2019, 5, 17, 22, 50),\n",
       " 875: datetime.datetime(2019, 5, 17, 4, 15),\n",
       " 876: datetime.datetime(2019, 5, 17, 11, 45),\n",
       " 877: datetime.datetime(2019, 5, 17, 20, 35),\n",
       " 878: datetime.datetime(2019, 5, 17, 13, 40),\n",
       " 879: datetime.datetime(2019, 5, 17, 20, 15),\n",
       " 880: datetime.datetime(2019, 5, 17, 17, 55),\n",
       " 881: datetime.datetime(2019, 5, 17, 0, 10),\n",
       " 882: datetime.datetime(2019, 5, 17, 10, 5),\n",
       " 883: datetime.datetime(2019, 5, 17, 18, 55),\n",
       " 884: datetime.datetime(2019, 5, 17, 13, 55),\n",
       " 885: datetime.datetime(2019, 5, 17, 22, 40),\n",
       " 886: datetime.datetime(2019, 5, 17, 18, 0),\n",
       " 887: datetime.datetime(2019, 5, 17, 6, 20),\n",
       " 888: datetime.datetime(2019, 5, 17, 8, 0),\n",
       " 889: datetime.datetime(2019, 5, 17, 17, 0),\n",
       " 890: datetime.datetime(2019, 5, 17, 7, 35),\n",
       " 891: datetime.datetime(2019, 5, 17, 15, 30),\n",
       " 892: datetime.datetime(2019, 5, 17, 19, 50),\n",
       " 893: datetime.datetime(2019, 5, 17, 3, 35),\n",
       " 894: datetime.datetime(2019, 5, 17, 6, 40),\n",
       " 895: datetime.datetime(2019, 5, 17, 17, 50),\n",
       " 896: datetime.datetime(2019, 5, 17, 9, 0),\n",
       " 897: datetime.datetime(2019, 5, 17, 19, 35),\n",
       " 898: datetime.datetime(2019, 5, 17, 19, 20),\n",
       " 899: datetime.datetime(2019, 5, 17, 5, 35),\n",
       " 900: datetime.datetime(2019, 5, 17, 12, 10),\n",
       " 901: datetime.datetime(2019, 5, 17, 22, 20),\n",
       " 902: datetime.datetime(2019, 5, 17, 11, 0),\n",
       " 903: datetime.datetime(2019, 5, 17, 22, 5),\n",
       " 904: datetime.datetime(2019, 5, 17, 18, 0),\n",
       " 905: datetime.datetime(2019, 5, 17, 18, 25),\n",
       " 906: datetime.datetime(2019, 5, 17, 7, 35),\n",
       " 907: datetime.datetime(2019, 5, 17, 14, 55),\n",
       " 908: datetime.datetime(2019, 5, 17, 0, 35),\n",
       " 909: datetime.datetime(2019, 5, 17, 12, 15),\n",
       " 910: datetime.datetime(2019, 5, 17, 4, 20),\n",
       " 911: datetime.datetime(2019, 5, 17, 9, 10),\n",
       " 912: datetime.datetime(2019, 5, 17, 17, 45),\n",
       " 913: datetime.datetime(2019, 5, 17, 7, 25),\n",
       " 914: datetime.datetime(2019, 5, 17, 9, 50),\n",
       " 915: datetime.datetime(2019, 5, 17, 19, 10),\n",
       " 916: datetime.datetime(2019, 5, 17, 7, 5),\n",
       " 917: datetime.datetime(2019, 5, 17, 16, 35),\n",
       " 918: datetime.datetime(2019, 5, 17, 13, 40),\n",
       " 919: datetime.datetime(2019, 5, 17, 23, 10),\n",
       " 920: datetime.datetime(2019, 5, 17, 19, 10),\n",
       " 921: datetime.datetime(2019, 5, 17, 4, 30),\n",
       " 922: datetime.datetime(2019, 5, 17, 19, 35),\n",
       " 923: datetime.datetime(2019, 5, 17, 4, 55),\n",
       " 924: datetime.datetime(2019, 5, 17, 19, 45),\n",
       " 925: datetime.datetime(2019, 5, 17, 9, 15),\n",
       " 926: datetime.datetime(2019, 5, 17, 17, 5),\n",
       " 927: datetime.datetime(2019, 5, 17, 8, 35),\n",
       " 928: datetime.datetime(2019, 5, 17, 20, 0),\n",
       " 929: datetime.datetime(2019, 5, 17, 18, 15),\n",
       " 930: datetime.datetime(2019, 5, 17, 5, 25),\n",
       " 931: datetime.datetime(2019, 5, 17, 19, 30),\n",
       " 932: datetime.datetime(2019, 5, 17, 16, 10),\n",
       " 933: datetime.datetime(2019, 5, 17, 9, 40),\n",
       " 934: datetime.datetime(2019, 5, 17, 17, 0),\n",
       " 935: datetime.datetime(2019, 5, 17, 11, 0),\n",
       " 936: datetime.datetime(2019, 5, 17, 19, 25),\n",
       " 937: datetime.datetime(2019, 5, 17, 19, 50),\n",
       " 938: datetime.datetime(2019, 5, 17, 3, 55),\n",
       " 939: datetime.datetime(2019, 5, 17, 10, 0),\n",
       " 940: datetime.datetime(2019, 5, 17, 21, 55),\n",
       " 941: datetime.datetime(2019, 5, 17, 14, 50),\n",
       " 942: datetime.datetime(2019, 5, 17, 22, 50),\n",
       " 943: datetime.datetime(2019, 5, 17, 7, 20),\n",
       " 944: datetime.datetime(2019, 5, 17, 17, 40),\n",
       " 945: datetime.datetime(2019, 5, 17, 9, 35),\n",
       " 946: datetime.datetime(2019, 5, 17, 19, 50),\n",
       " 947: datetime.datetime(2019, 5, 17, 15, 30),\n",
       " 948: datetime.datetime(2019, 5, 17, 23, 10),\n",
       " 949: datetime.datetime(2019, 5, 17, 10, 20),\n",
       " 950: datetime.datetime(2019, 5, 17, 16, 30),\n",
       " 951: datetime.datetime(2019, 5, 17, 18, 15),\n",
       " 952: datetime.datetime(2019, 5, 17, 22, 25),\n",
       " 953: datetime.datetime(2019, 5, 17, 9, 15),\n",
       " 954: datetime.datetime(2019, 5, 17, 13, 20),\n",
       " 955: datetime.datetime(2019, 5, 17, 7, 15),\n",
       " 956: datetime.datetime(2019, 5, 17, 13, 30),\n",
       " 957: datetime.datetime(2019, 5, 17, 14, 35),\n",
       " 958: datetime.datetime(2019, 5, 17, 22, 40),\n",
       " 959: datetime.datetime(2019, 5, 17, 15, 40),\n",
       " 960: datetime.datetime(2019, 5, 17, 22, 30),\n",
       " 961: datetime.datetime(2019, 5, 17, 15, 50),\n",
       " 962: datetime.datetime(2019, 5, 17, 8, 5),\n",
       " 963: datetime.datetime(2019, 5, 17, 13, 55),\n",
       " 964: datetime.datetime(2019, 5, 17, 8, 40),\n",
       " 965: datetime.datetime(2019, 5, 17, 13, 35),\n",
       " 966: datetime.datetime(2019, 5, 17, 23, 25),\n",
       " 967: datetime.datetime(2019, 5, 17, 8, 10),\n",
       " 968: datetime.datetime(2019, 5, 17, 0, 40),\n",
       " 969: datetime.datetime(2019, 5, 17, 6, 5),\n",
       " 970: datetime.datetime(2019, 5, 17, 19, 15),\n",
       " 971: datetime.datetime(2019, 5, 17, 7, 15),\n",
       " 972: datetime.datetime(2019, 5, 17, 15, 45),\n",
       " 973: datetime.datetime(2019, 5, 17, 22, 10),\n",
       " 974: datetime.datetime(2019, 5, 17, 8, 25),\n",
       " 975: datetime.datetime(2019, 5, 17, 14, 45),\n",
       " 976: datetime.datetime(2019, 5, 17, 17, 10),\n",
       " 977: datetime.datetime(2019, 5, 17, 22, 10),\n",
       " 978: datetime.datetime(2019, 5, 17, 16, 5),\n",
       " 979: datetime.datetime(2019, 5, 17, 22, 20),\n",
       " 980: datetime.datetime(2019, 5, 17, 9, 25),\n",
       " 981: datetime.datetime(2019, 5, 17, 15, 20),\n",
       " 982: datetime.datetime(2019, 5, 17, 22, 55),\n",
       " 983: datetime.datetime(2019, 5, 17, 4, 50),\n",
       " 984: datetime.datetime(2019, 5, 17, 18, 25),\n",
       " 985: datetime.datetime(2019, 5, 17, 14, 0),\n",
       " 986: datetime.datetime(2019, 5, 17, 17, 5),\n",
       " 987: datetime.datetime(2019, 5, 17, 12, 25),\n",
       " 988: datetime.datetime(2019, 5, 17, 19, 50),\n",
       " 989: datetime.datetime(2019, 5, 17, 18, 30),\n",
       " 990: datetime.datetime(2019, 5, 17, 12, 30),\n",
       " 991: datetime.datetime(2019, 5, 17, 14, 10),\n",
       " 992: datetime.datetime(2019, 5, 17, 4, 55),\n",
       " 993: datetime.datetime(2019, 5, 17, 21, 5),\n",
       " 994: datetime.datetime(2019, 5, 17, 14, 35),\n",
       " 995: datetime.datetime(2019, 5, 17, 10, 50),\n",
       " 996: datetime.datetime(2019, 5, 17, 20, 5),\n",
       " 997: datetime.datetime(2019, 5, 17, 19, 55),\n",
       " 998: datetime.datetime(2019, 5, 17, 4, 15),\n",
       " 999: datetime.datetime(2019, 5, 17, 3, 25),\n",
       " ...}"
      ]
     },
     "metadata": {},
     "execution_count": 16
    }
   ],
   "source": [
    "{i:j for (i,j) in enumerate(list(map(lambda x: datetime.strptime(x, '%Y-%m-%d %H:%M:%S'), list(df['flight_datetime'].values()))))}"
   ]
  },
  {
   "cell_type": "code",
   "execution_count": 14,
   "metadata": {},
   "outputs": [
    {
     "output_type": "execute_result",
     "data": {
      "text/plain": [
       "etime(2019, 5, 17, 17, 50),\n",
       " datetime.datetime(2019, 5, 17, 0, 20),\n",
       " datetime.datetime(2019, 5, 17, 0, 40),\n",
       " datetime.datetime(2019, 5, 17, 6, 30),\n",
       " datetime.datetime(2019, 5, 17, 21, 40),\n",
       " datetime.datetime(2019, 5, 17, 7, 35),\n",
       " datetime.datetime(2019, 5, 17, 14, 45),\n",
       " datetime.datetime(2019, 5, 17, 20, 55),\n",
       " datetime.datetime(2019, 5, 17, 1, 55),\n",
       " datetime.datetime(2019, 5, 17, 9, 15),\n",
       " datetime.datetime(2019, 5, 17, 6, 25),\n",
       " datetime.datetime(2019, 5, 17, 12, 50),\n",
       " datetime.datetime(2019, 5, 17, 17, 25),\n",
       " datetime.datetime(2019, 5, 17, 6, 40),\n",
       " datetime.datetime(2019, 5, 17, 21, 25),\n",
       " datetime.datetime(2019, 5, 17, 11, 0),\n",
       " datetime.datetime(2019, 5, 17, 7, 30),\n",
       " datetime.datetime(2019, 5, 17, 20, 40),\n",
       " datetime.datetime(2019, 5, 17, 21, 25),\n",
       " datetime.datetime(2019, 5, 17, 7, 15),\n",
       " datetime.datetime(2019, 5, 17, 22, 20),\n",
       " datetime.datetime(2019, 5, 17, 8, 25),\n",
       " datetime.datetime(2019, 5, 17, 9, 10),\n",
       " datetime.datetime(2019, 5, 17, 18, 45),\n",
       " datetime.datetime(2019, 5, 17, 6, 25),\n",
       " datetime.datetime(2019, 5, 17, 15, 55),\n",
       " datetime.datetime(2019, 5, 17, 21, 30),\n",
       " datetime.datetime(2019, 5, 17, 7, 45),\n",
       " datetime.datetime(2019, 5, 17, 1, 50),\n",
       " datetime.datetime(2019, 5, 17, 10, 0),\n",
       " datetime.datetime(2019, 5, 17, 0, 10),\n",
       " datetime.datetime(2019, 5, 17, 10, 55),\n",
       " datetime.datetime(2019, 5, 17, 20, 25),\n",
       " datetime.datetime(2019, 5, 17, 7, 10),\n",
       " datetime.datetime(2019, 5, 17, 1, 0),\n",
       " datetime.datetime(2019, 5, 17, 12, 5),\n",
       " datetime.datetime(2019, 5, 17, 7, 40),\n",
       " datetime.datetime(2019, 5, 17, 18, 50),\n",
       " datetime.datetime(2019, 5, 17, 11, 40),\n",
       " datetime.datetime(2019, 5, 17, 18, 55),\n",
       " datetime.datetime(2019, 5, 17, 17, 50),\n",
       " datetime.datetime(2019, 5, 17, 0, 5),\n",
       " datetime.datetime(2019, 5, 17, 8, 5),\n",
       " datetime.datetime(2019, 5, 17, 14, 50),\n",
       " datetime.datetime(2019, 5, 17, 8, 25),\n",
       " datetime.datetime(2019, 5, 17, 15, 15),\n",
       " datetime.datetime(2019, 5, 17, 23, 40),\n",
       " datetime.datetime(2019, 5, 17, 6, 20),\n",
       " datetime.datetime(2019, 5, 17, 14, 0),\n",
       " datetime.datetime(2019, 5, 17, 20, 55),\n",
       " datetime.datetime(2019, 5, 17, 1, 30),\n",
       " datetime.datetime(2019, 5, 17, 8, 20),\n",
       " datetime.datetime(2019, 5, 17, 21, 45),\n",
       " datetime.datetime(2019, 5, 17, 6, 15),\n",
       " datetime.datetime(2019, 5, 17, 1, 35),\n",
       " datetime.datetime(2019, 5, 17, 9, 30),\n",
       " datetime.datetime(2019, 5, 17, 10, 15),\n",
       " datetime.datetime(2019, 5, 17, 18, 35),\n",
       " datetime.datetime(2019, 5, 17, 1, 55),\n",
       " datetime.datetime(2019, 5, 17, 10, 40),\n",
       " datetime.datetime(2019, 5, 17, 23, 5),\n",
       " datetime.datetime(2019, 5, 17, 8, 55),\n",
       " datetime.datetime(2019, 5, 17, 22, 15),\n",
       " datetime.datetime(2019, 5, 17, 8, 0),\n",
       " datetime.datetime(2019, 5, 17, 0, 55),\n",
       " datetime.datetime(2019, 5, 17, 10, 25),\n",
       " datetime.datetime(2019, 5, 17, 8, 15),\n",
       " datetime.datetime(2019, 5, 17, 13, 40),\n",
       " datetime.datetime(2019, 5, 17, 20, 35),\n",
       " datetime.datetime(2019, 5, 17, 6, 10),\n",
       " datetime.datetime(2019, 5, 17, 1, 5),\n",
       " datetime.datetime(2019, 5, 17, 14, 15),\n",
       " datetime.datetime(2019, 5, 17, 6, 25),\n",
       " datetime.datetime(2019, 5, 17, 10, 50),\n",
       " datetime.datetime(2019, 5, 17, 9, 15),\n",
       " datetime.datetime(2019, 5, 17, 15, 30),\n",
       " datetime.datetime(2019, 5, 17, 11, 45),\n",
       " datetime.datetime(2019, 5, 17, 18, 15),\n",
       " datetime.datetime(2019, 5, 17, 14, 55),\n",
       " datetime.datetime(2019, 5, 17, 21, 20),\n",
       " datetime.datetime(2019, 5, 17, 21, 0),\n",
       " datetime.datetime(2019, 5, 17, 5, 0),\n",
       " datetime.datetime(2019, 5, 17, 13, 35),\n",
       " datetime.datetime(2019, 5, 17, 19, 50),\n",
       " datetime.datetime(2019, 5, 17, 6, 10),\n",
       " datetime.datetime(2019, 5, 17, 12, 20),\n",
       " datetime.datetime(2019, 5, 17, 0, 40),\n",
       " datetime.datetime(2019, 5, 17, 8, 35),\n",
       " datetime.datetime(2019, 5, 17, 6, 15),\n",
       " datetime.datetime(2019, 5, 17, 14, 10),\n",
       " datetime.datetime(2019, 5, 17, 7, 30),\n",
       " datetime.datetime(2019, 5, 17, 13, 0),\n",
       " datetime.datetime(2019, 5, 17, 7, 25),\n",
       " datetime.datetime(2019, 5, 17, 13, 25),\n",
       " datetime.datetime(2019, 5, 17, 22, 50),\n",
       " datetime.datetime(2019, 5, 17, 7, 0),\n",
       " datetime.datetime(2019, 5, 17, 17, 25),\n",
       " datetime.datetime(2019, 5, 17, 23, 55),\n",
       " datetime.datetime(2019, 5, 17, 14, 25),\n",
       " datetime.datetime(2019, 5, 17, 19, 25),\n",
       " datetime.datetime(2019, 5, 17, 15, 40),\n",
       " datetime.datetime(2019, 5, 17, 10, 15),\n",
       " datetime.datetime(2019, 5, 17, 20, 35),\n",
       " datetime.datetime(2019, 5, 17, 15, 50),\n",
       " datetime.datetime(2019, 5, 17, 17, 15),\n",
       " datetime.datetime(2019, 5, 17, 10, 35),\n",
       " datetime.datetime(2019, 5, 17, 16, 45),\n",
       " datetime.datetime(2019, 5, 17, 12, 40),\n",
       " datetime.datetime(2019, 5, 17, 17, 45),\n",
       " datetime.datetime(2019, 5, 17, 18, 45),\n",
       " datetime.datetime(2019, 5, 17, 22, 25),\n",
       " datetime.datetime(2019, 5, 17, 13, 40),\n",
       " datetime.datetime(2019, 5, 17, 10, 0),\n",
       " datetime.datetime(2019, 5, 17, 14, 50),\n",
       " datetime.datetime(2019, 5, 17, 22, 25),\n",
       " datetime.datetime(2019, 5, 17, 6, 25),\n",
       " datetime.datetime(2019, 5, 17, 15, 5),\n",
       " datetime.datetime(2019, 5, 17, 20, 20),\n",
       " datetime.datetime(2019, 5, 17, 2, 50),\n",
       " datetime.datetime(2019, 5, 17, 9, 55),\n",
       " datetime.datetime(2019, 5, 17, 20, 20),\n",
       " datetime.datetime(2019, 5, 17, 9, 35),\n",
       " datetime.datetime(2019, 5, 17, 19, 5),\n",
       " datetime.datetime(2019, 5, 17, 8, 35),\n",
       " datetime.datetime(2019, 5, 17, 12, 15),\n",
       " datetime.datetime(2019, 5, 17, 18, 10),\n",
       " datetime.datetime(2019, 5, 17, 21, 55),\n",
       " datetime.datetime(2019, 5, 17, 22, 0),\n",
       " datetime.datetime(2019, 5, 17, 7, 40),\n",
       " datetime.datetime(2019, 5, 17, 13, 20),\n",
       " datetime.datetime(2019, 5, 17, 17, 35),\n",
       " datetime.datetime(2019, 5, 17, 16, 50),\n",
       " datetime.datetime(2019, 5, 17, 20, 45),\n",
       " datetime.datetime(2019, 5, 17, 1, 35),\n",
       " datetime.datetime(2019, 5, 17, 22, 45),\n",
       " datetime.datetime(2019, 5, 17, 5, 55),\n",
       " datetime.datetime(2019, 5, 17, 6, 10),\n",
       " datetime.datetime(2019, 5, 17, 23, 50),\n",
       " datetime.datetime(2019, 5, 17, 7, 15),\n",
       " datetime.datetime(2019, 5, 17, 9, 55),\n",
       " datetime.datetime(2019, 5, 17, 17, 20),\n",
       " datetime.datetime(2019, 5, 17, 6, 30),\n",
       " datetime.datetime(2019, 5, 17, 13, 10),\n",
       " datetime.datetime(2019, 5, 17, 9, 45),\n",
       " datetime.datetime(2019, 5, 17, 16, 45),\n",
       " datetime.datetime(2019, 5, 17, 16, 15),\n",
       " datetime.datetime(2019, 5, 17, 23, 20),\n",
       " datetime.datetime(2019, 5, 17, 2, 5),\n",
       " datetime.datetime(2019, 5, 17, 9, 40),\n",
       " datetime.datetime(2019, 5, 17, 23, 40),\n",
       " datetime.datetime(2019, 5, 17, 7, 5),\n",
       " datetime.datetime(2019, 5, 17, 20, 40),\n",
       " datetime.datetime(2019, 5, 17, 4, 45),\n",
       " datetime.datetime(2019, 5, 17, 20, 45),\n",
       " datetime.datetime(2019, 5, 17, 7, 5),\n",
       " datetime.datetime(2019, 5, 17, 8, 55),\n",
       " datetime.datetime(2019, 5, 17, 7, 40),\n",
       " datetime.datetime(2019, 5, 17, 17, 50),\n",
       " datetime.datetime(2019, 5, 17, 21, 45),\n",
       " datetime.datetime(2019, 5, 17, 7, 40),\n",
       " datetime.datetime(2019, 5, 17, 11, 15),\n",
       " datetime.datetime(2019, 5, 17, 18, 5),\n",
       " datetime.datetime(2019, 5, 17, 22, 10),\n",
       " datetime.datetime(2019, 5, 17, 4, 50),\n",
       " datetime.datetime(2019, 5, 17, 20, 50),\n",
       " datetime.datetime(2019, 5, 17, 7, 10),\n",
       " datetime.datetime(2019, 5, 17, 22, 25),\n",
       " datetime.datetime(2019, 5, 17, 6, 55),\n",
       " datetime.datetime(2019, 5, 17, 7, 45),\n",
       " datetime.datetime(2019, 5, 17, 18, 20),\n",
       " datetime.datetime(2019, 5, 17, 21, 0),\n",
       " datetime.datetime(2019, 5, 17, 7, 35),\n",
       " datetime.datetime(2019, 5, 17, 0, 10),\n",
       " datetime.datetime(2019, 5, 17, 6, 35),\n",
       " datetime.datetime(2019, 5, 17, 0, 10),\n",
       " datetime.datetime(2019, 5, 17, 7, 0),\n",
       " datetime.datetime(2019, 5, 17, 23, 50),\n",
       " datetime.datetime(2019, 5, 17, 8, 5),\n",
       " datetime.datetime(2019, 5, 17, 1, 20),\n",
       " datetime.datetime(2019, 5, 17, 7, 25),\n",
       " datetime.datetime(2019, 5, 17, 23, 35),\n",
       " datetime.datetime(2019, 5, 17, 7, 20),\n",
       " datetime.datetime(2019, 5, 17, 9, 20),\n",
       " datetime.datetime(2019, 5, 17, 17, 35),\n",
       " datetime.datetime(2019, 5, 17, 10, 40),\n",
       " datetime.datetime(2019, 5, 17, 15, 40),\n",
       " datetime.datetime(2019, 5, 17, 18, 5),\n",
       " datetime.datetime(2019, 5, 17, 23, 15),\n",
       " datetime.datetime(2019, 5, 17, 7, 45),\n",
       " datetime.datetime(2019, 5, 17, 12, 50),\n",
       " datetime.datetime(2019, 5, 17, 7, 30),\n",
       " datetime.datetime(2019, 5, 17, 13, 50),\n",
       " datetime.datetime(2019, 5, 17, 10, 10),\n",
       " datetime.datetime(2019, 5, 17, 16, 35),\n",
       " datetime.datetime(2019, 5, 17, 14, 55),\n",
       " datetime.datetime(2019, 5, 17, 21, 25),\n",
       " datetime.datetime(2019, 5, 17, 19, 15),\n",
       " datetime.datetime(2019, 5, 17, 4, 30),\n",
       " datetime.datetime(2019, 5, 17, 13, 0),\n",
       " datetime.datetime(2019, 5, 17, 19, 30),\n",
       " datetime.datetime(2019, 5, 17, 17, 0),\n",
       " datetime.datetime(2019, 5, 17, 23, 25),\n",
       " datetime.datetime(2019, 5, 17, 10, 10),\n",
       " datetime.datetime(2019, 5, 17, 16, 30),\n",
       " datetime.datetime(2019, 5, 17, 7, 5),\n",
       " datetime.datetime(2019, 5, 17, 13, 25),\n",
       " datetime.datetime(2019, 5, 17, 9, 20),\n",
       " datetime.datetime(2019, 5, 17, 16, 25),\n",
       " datetime.datetime(2019, 5, 17, 20, 55),\n",
       " datetime.datetime(2019, 5, 17, 5, 5),\n",
       " datetime.datetime(2019, 5, 17, 10, 5),\n",
       " datetime.datetime(2019, 5, 17, 17, 5),\n",
       " datetime.datetime(2019, 5, 17, 15, 10),\n",
       " datetime.datetime(2019, 5, 17, 23, 0),\n",
       " datetime.datetime(2019, 5, 17, 8, 15),\n",
       " datetime.datetime(2019, 5, 17, 15, 35),\n",
       " datetime.datetime(2019, 5, 17, 20, 0),\n",
       " datetime.datetime(2019, 5, 17, 5, 40),\n",
       " datetime.datetime(2019, 5, 17, 9, 55),\n",
       " datetime.datetime(2019, 5, 17, 18, 45),\n",
       " datetime.datetime(2019, 5, 17, 14, 15),\n",
       " datetime.datetime(2019, 5, 17, 23, 15),\n",
       " datetime.datetime(2019, 5, 17, 10, 15),\n",
       " datetime.datetime(2019, 5, 17, 17, 10),\n",
       " datetime.datetime(2019, 5, 17, 20, 15),\n",
       " datetime.datetime(2019, 5, 17, 4, 35),\n",
       " datetime.datetime(2019, 5, 17, 17, 20),\n",
       " datetime.datetime(2019, 5, 17, 0, 10),\n",
       " datetime.datetime(2019, 5, 17, 11, 50),\n",
       " datetime.datetime(2019, 5, 17, 16, 10),\n",
       " datetime.datetime(2019, 5, 17, 8, 30),\n",
       " datetime.datetime(2019, 5, 17, 8, 45),\n",
       " datetime.datetime(2019, 5, 17, 13, 15),\n",
       " datetime.datetime(2019, 5, 17, 21, 15),\n",
       " datetime.datetime(2019, 5, 17, 6, 35),\n",
       " datetime.datetime(2019, 5, 17, 8, 5),\n",
       " datetime.datetime(2019, 5, 17, 17, 15),\n",
       " datetime.datetime(2019, 5, 17, 19, 25),\n",
       " datetime.datetime(2019, 5, 17, 4, 20),\n",
       " datetime.datetime(2019, 5, 17, 22, 55),\n",
       " datetime.datetime(2019, 5, 17, 16, 15),\n",
       " datetime.datetime(2019, 5, 17, 0, 25),\n",
       " datetime.datetime(2019, 5, 17, 10, 50),\n",
       " datetime.datetime(2019, 5, 17, 20, 35),\n",
       " datetime.datetime(2019, 5, 17, 7, 50),\n",
       " datetime.datetime(2019, 5, 17, 16, 0),\n",
       " datetime.datetime(2019, 5, 17, 14, 5),\n",
       " datetime.datetime(2019, 5, 17, 22, 25),\n",
       " datetime.datetime(2019, 5, 17, 21, 15),\n",
       " datetime.datetime(2019, 5, 17, 6, 5),\n",
       " datetime.datetime(2019, 5, 17, 10, 0),\n",
       " datetime.datetime(2019, 5, 17, 18, 25),\n",
       " datetime.datetime(2019, 5, 17, 17, 40),\n",
       " datetime.datetime(2019, 5, 17, 4, 5),\n",
       " datetime.datetime(2019, 5, 17, 9, 35),\n",
       " datetime.datetime(2019, 5, 17, 18, 10),\n",
       " datetime.datetime(2019, 5, 17, 20, 15),\n",
       " datetime.datetime(2019, 5, 17, 5, 25),\n",
       " datetime.datetime(2019, 5, 17, 11, 20),\n",
       " datetime.datetime(2019, 5, 17, 18, 50),\n",
       " datetime.datetime(2019, 5, 17, 14, 25),\n",
       " datetime.datetime(2019, 5, 17, 21, 50),\n",
       " datetime.datetime(2019, 5, 17, 15, 55),\n",
       " datetime.datetime(2019, 5, 17, 23, 50),\n",
       " datetime.datetime(2019, 5, 17, 16, 10),\n",
       " datetime.datetime(2019, 5, 17, 20, 45),\n",
       " datetime.datetime(2019, 5, 17, 8, 15),\n",
       " datetime.datetime(2019, 5, 17, 16, 10),\n",
       " datetime.datetime(2019, 5, 17, 10, 20),\n",
       " datetime.datetime(2019, 5, 17, 16, 40),\n",
       " datetime.datetime(2019, 5, 17, 20, 25),\n",
       " datetime.datetime(2019, 5, 17, 9, 5),\n",
       " datetime.datetime(2019, 5, 17, 15, 40),\n",
       " datetime.datetime(2019, 5, 17, 19, 45),\n",
       " datetime.datetime(2019, 5, 17, 4, 25),\n",
       " datetime.datetime(2019, 5, 17, 18, 20),\n",
       " datetime.datetime(2019, 5, 17, 22, 45),\n",
       " datetime.datetime(2019, 5, 17, 8, 30),\n",
       " datetime.datetime(2019, 5, 17, 13, 5),\n",
       " datetime.datetime(2019, 5, 17, 10, 40),\n",
       " datetime.datetime(2019, 5, 17, 15, 10),\n",
       " datetime.datetime(2019, 5, 17, 10, 25),\n",
       " datetime.datetime(2019, 5, 17, 15, 50),\n",
       " datetime.datetime(2019, 5, 17, 18, 5),\n",
       " datetime.datetime(2019, 5, 17, 22, 20),\n",
       " datetime.datetime(2019, 5, 17, 10, 15),\n",
       " datetime.datetime(2019, 5, 17, 18, 30),\n",
       " datetime.datetime(2019, 5, 17, 18, 50),\n",
       " datetime.datetime(2019, 5, 17, 2, 35),\n",
       " datetime.datetime(2019, 5, 17, 7, 55),\n",
       " datetime.datetime(2019, 5, 17, 15, 35),\n",
       " datetime.datetime(2019, 5, 17, 9, 20),\n",
       " datetime.datetime(2019, 5, 17, 15, 45),\n",
       " datetime.datetime(2019, 5, 17, 15, 25),\n",
       " datetime.datetime(2019, 5, 17, 21, 45),\n",
       " datetime.datetime(2019, 5, 17, 19, 35),\n",
       " datetime.datetime(2019, 5, 17, 4, 0),\n",
       " datetime.datetime(2019, 5, 17, 11, 20),\n",
       " datetime.datetime(2019, 5, 17, 18, 0),\n",
       " datetime.datetime(2019, 5, 17, 6, 50),\n",
       " datetime.datetime(2019, 5, 17, 14, 15),\n",
       " datetime.datetime(2019, 5, 17, 9, 25),\n",
       " datetime.datetime(2019, 5, 17, 16, 40),\n",
       " datetime.datetime(2019, 5, 17, 14, 30),\n",
       " datetime.datetime(2019, 5, 17, 21, 40),\n",
       " datetime.datetime(2019, 5, 17, 10, 55),\n",
       " datetime.datetime(2019, 5, 17, 18, 35),\n",
       " datetime.datetime(2019, 5, 17, 19, 0),\n",
       " datetime.datetime(2019, 5, 17, 2, 50),\n",
       " datetime.datetime(2019, 5, 17, 10, 45),\n",
       " datetime.datetime(2019, 5, 17, 17, 45),\n",
       " datetime.datetime(2019, 5, 17, 11, 25),\n",
       " datetime.datetime(2019, 5, 17, 17, 55),\n",
       " datetime.datetime(2019, 5, 17, 10, 35),\n",
       " datetime.datetime(2019, 5, 17, 17, 15),\n",
       " datetime.datetime(2019, 5, 17, 16, 5),\n",
       " datetime.datetime(2019, 5, 17, 22, 45),\n",
       " datetime.datetime(2019, 5, 17, 16, 45),\n",
       " datetime.datetime(2019, 5, 17, 23, 25),\n",
       " datetime.datetime(2019, 5, 17, 20, 0),\n",
       " datetime.datetime(2019, 5, 17, 4, 10),\n",
       " datetime.datetime(2019, 5, 17, 12, 0),\n",
       " datetime.datetime(2019, 5, 17, 18, 40),\n",
       " datetime.datetime(2019, 5, 17, 8, 45),\n",
       " datetime.datetime(2019, 5, 17, 17, 30),\n",
       " datetime.datetime(2019, 5, 17, 20, 0),\n",
       " datetime.datetime(2019, 5, 17, 4, 45),\n",
       " datetime.datetime(2019, 5, 17, 8, 55),\n",
       " datetime.datetime(2019, 5, 17, 17, 25),\n",
       " datetime.datetime(2019, 5, 17, 17, 55),\n",
       " datetime.datetime(2019, 5, 17, 2, 10),\n",
       " datetime.datetime(2019, 5, 17, 18, 10),\n",
       " datetime.datetime(2019, 5, 17, 23, 30),\n",
       " datetime.datetime(2019, 5, 17, 9, 50),\n",
       " datetime.datetime(2019, 5, 17, 18, 0),\n",
       " datetime.datetime(2019, 5, 17, 18, 25),\n",
       " datetime.datetime(2019, 5, 17, 2, 50),\n",
       " datetime.datetime(2019, 5, 17, 4, 40),\n",
       " datetime.datetime(2019, 5, 17, 8, 35),\n",
       " datetime.datetime(2019, 5, 17, 17, 30),\n",
       " datetime.datetime(2019, 5, 17, 18, 40),\n",
       " datetime.datetime(2019, 5, 17, 11, 25),\n",
       " datetime.datetime(2019, 5, 17, 20, 15),\n",
       " datetime.datetime(2019, 5, 17, 14, 30),\n",
       " datetime.datetime(2019, 5, 17, 23, 5),\n",
       " datetime.datetime(2019, 5, 17, 8, 25),\n",
       " datetime.datetime(2019, 5, 17, 16, 45),\n",
       " datetime.datetime(2019, 5, 17, 14, 40),\n",
       " datetime.datetime(2019, 5, 17, 22, 55),\n",
       " datetime.datetime(2019, 5, 17, 19, 55),\n",
       " datetime.datetime(2019, 5, 17, 5, 0),\n",
       " datetime.datetime(2019, 5, 17, 6, 50),\n",
       " datetime.datetime(2019, 5, 17, 15, 5),\n",
       " datetime.datetime(2019, 5, 17, 10, 20),\n",
       " datetime.datetime(2019, 5, 17, 19, 10),\n",
       " datetime.datetime(2019, 5, 17, 19, 45),\n",
       " datetime.datetime(2019, 5, 17, 3, 30),\n",
       " datetime.datetime(2019, 5, 17, 7, 50),\n",
       " datetime.datetime(2019, 5, 17, 15, 45),\n",
       " datetime.datetime(2019, 5, 17, 20, 5),\n",
       " datetime.datetime(2019, 5, 17, 4, 25),\n",
       " datetime.datetime(2019, 5, 17, 19, 30),\n",
       " datetime.datetime(2019, 5, 17, 10, 30),\n",
       " datetime.datetime(2019, 5, 17, 7, 35),\n",
       " datetime.datetime(2019, 5, 17, 16, 20),\n",
       " datetime.datetime(2019, 5, 17, 10, 5),\n",
       " datetime.datetime(2019, 5, 17, 18, 55),\n",
       " datetime.datetime(2019, 5, 17, 14, 5),\n",
       " datetime.datetime(2019, 5, 17, 22, 50),\n",
       " datetime.datetime(2019, 5, 17, 4, 15),\n",
       " datetime.datetime(2019, 5, 17, 11, 45),\n",
       " datetime.datetime(2019, 5, 17, 20, 35),\n",
       " datetime.datetime(2019, 5, 17, 13, 40),\n",
       " datetime.datetime(2019, 5, 17, 20, 15),\n",
       " datetime.datetime(2019, 5, 17, 17, 55),\n",
       " datetime.datetime(2019, 5, 17, 0, 10),\n",
       " datetime.datetime(2019, 5, 17, 10, 5),\n",
       " datetime.datetime(2019, 5, 17, 18, 55),\n",
       " datetime.datetime(2019, 5, 17, 13, 55),\n",
       " datetime.datetime(2019, 5, 17, 22, 40),\n",
       " datetime.datetime(2019, 5, 17, 18, 0),\n",
       " datetime.datetime(2019, 5, 17, 6, 20),\n",
       " datetime.datetime(2019, 5, 17, 8, 0),\n",
       " datetime.datetime(2019, 5, 17, 17, 0),\n",
       " datetime.datetime(2019, 5, 17, 7, 35),\n",
       " datetime.datetime(2019, 5, 17, 15, 30),\n",
       " datetime.datetime(2019, 5, 17, 19, 50),\n",
       " datetime.datetime(2019, 5, 17, 3, 35),\n",
       " datetime.datetime(2019, 5, 17, 6, 40),\n",
       " datetime.datetime(2019, 5, 17, 17, 50),\n",
       " datetime.datetime(2019, 5, 17, 9, 0),\n",
       " datetime.datetime(2019, 5, 17, 19, 35),\n",
       " datetime.datetime(2019, 5, 17, 19, 20),\n",
       " datetime.datetime(2019, 5, 17, 5, 35),\n",
       " datetime.datetime(2019, 5, 17, 12, 10),\n",
       " datetime.datetime(2019, 5, 17, 22, 20),\n",
       " datetime.datetime(2019, 5, 17, 11, 0),\n",
       " datetime.datetime(2019, 5, 17, 22, 5),\n",
       " datetime.datetime(2019, 5, 17, 18, 0),\n",
       " datetime.datetime(2019, 5, 17, 18, 25),\n",
       " datetime.datetime(2019, 5, 17, 7, 35),\n",
       " datetime.datetime(2019, 5, 17, 14, 55),\n",
       " datetime.datetime(2019, 5, 17, 0, 35),\n",
       " datetime.datetime(2019, 5, 17, 12, 15),\n",
       " datetime.datetime(2019, 5, 17, 4, 20),\n",
       " datetime.datetime(2019, 5, 17, 9, 10),\n",
       " datetime.datetime(2019, 5, 17, 17, 45),\n",
       " datetime.datetime(2019, 5, 17, 7, 25),\n",
       " datetime.datetime(2019, 5, 17, 9, 50),\n",
       " datetime.datetime(2019, 5, 17, 19, 10),\n",
       " datetime.datetime(2019, 5, 17, 7, 5),\n",
       " datetime.datetime(2019, 5, 17, 16, 35),\n",
       " datetime.datetime(2019, 5, 17, 13, 40),\n",
       " datetime.datetime(2019, 5, 17, 23, 10),\n",
       " datetime.datetime(2019, 5, 17, 19, 10),\n",
       " datetime.datetime(2019, 5, 17, 4, 30),\n",
       " datetime.datetime(2019, 5, 17, 19, 35),\n",
       " datetime.datetime(2019, 5, 17, 4, 55),\n",
       " datetime.datetime(2019, 5, 17, 19, 45),\n",
       " datetime.datetime(2019, 5, 17, 9, 15),\n",
       " datetime.datetime(2019, 5, 17, 17, 5),\n",
       " datetime.datetime(2019, 5, 17, 8, 35),\n",
       " datetime.datetime(2019, 5, 17, 20, 0),\n",
       " datetime.datetime(2019, 5, 17, 18, 15),\n",
       " datetime.datetime(2019, 5, 17, 5, 25),\n",
       " datetime.datetime(2019, 5, 17, 19, 30),\n",
       " datetime.datetime(2019, 5, 17, 16, 10),\n",
       " datetime.datetime(2019, 5, 17, 9, 40),\n",
       " datetime.datetime(2019, 5, 17, 17, 0),\n",
       " datetime.datetime(2019, 5, 17, 11, 0),\n",
       " datetime.datetime(2019, 5, 17, 19, 25),\n",
       " datetime.datetime(2019, 5, 17, 19, 50),\n",
       " datetime.datetime(2019, 5, 17, 3, 55),\n",
       " datetime.datetime(2019, 5, 17, 10, 0),\n",
       " datetime.datetime(2019, 5, 17, 21, 55),\n",
       " datetime.datetime(2019, 5, 17, 14, 50),\n",
       " datetime.datetime(2019, 5, 17, 22, 50),\n",
       " datetime.datetime(2019, 5, 17, 7, 20),\n",
       " datetime.datetime(2019, 5, 17, 17, 40),\n",
       " datetime.datetime(2019, 5, 17, 9, 35),\n",
       " datetime.datetime(2019, 5, 17, 19, 50),\n",
       " datetime.datetime(2019, 5, 17, 15, 30),\n",
       " datetime.datetime(2019, 5, 17, 23, 10),\n",
       " datetime.datetime(2019, 5, 17, 10, 20),\n",
       " datetime.datetime(2019, 5, 17, 16, 30),\n",
       " datetime.datetime(2019, 5, 17, 18, 15),\n",
       " datetime.datetime(2019, 5, 17, 22, 25),\n",
       " datetime.datetime(2019, 5, 17, 9, 15),\n",
       " datetime.datetime(2019, 5, 17, 13, 20),\n",
       " datetime.datetime(2019, 5, 17, 7, 15),\n",
       " datetime.datetime(2019, 5, 17, 13, 30),\n",
       " datetime.datetime(2019, 5, 17, 14, 35),\n",
       " datetime.datetime(2019, 5, 17, 22, 40),\n",
       " datetime.datetime(2019, 5, 17, 15, 40),\n",
       " datetime.datetime(2019, 5, 17, 22, 30),\n",
       " datetime.datetime(2019, 5, 17, 15, 50),\n",
       " datetime.datetime(2019, 5, 17, 8, 5),\n",
       " datetime.datetime(2019, 5, 17, 13, 55),\n",
       " datetime.datetime(2019, 5, 17, 8, 40),\n",
       " datetime.datetime(2019, 5, 17, 13, 35),\n",
       " datetime.datetime(2019, 5, 17, 23, 25),\n",
       " datetime.datetime(2019, 5, 17, 8, 10),\n",
       " datetime.datetime(2019, 5, 17, 0, 40),\n",
       " datetime.datetime(2019, 5, 17, 6, 5),\n",
       " datetime.datetime(2019, 5, 17, 19, 15),\n",
       " datetime.datetime(2019, 5, 17, 7, 15),\n",
       " datetime.datetime(2019, 5, 17, 15, 45),\n",
       " datetime.datetime(2019, 5, 17, 22, 10),\n",
       " datetime.datetime(2019, 5, 17, 8, 25),\n",
       " datetime.datetime(2019, 5, 17, 14, 45),\n",
       " datetime.datetime(2019, 5, 17, 17, 10),\n",
       " datetime.datetime(2019, 5, 17, 22, 10),\n",
       " datetime.datetime(2019, 5, 17, 16, 5),\n",
       " datetime.datetime(2019, 5, 17, 22, 20),\n",
       " datetime.datetime(2019, 5, 17, 9, 25),\n",
       " datetime.datetime(2019, 5, 17, 15, 20),\n",
       " datetime.datetime(2019, 5, 17, 22, 55),\n",
       " datetime.datetime(2019, 5, 17, 4, 50),\n",
       " datetime.datetime(2019, 5, 17, 18, 25),\n",
       " datetime.datetime(2019, 5, 17, 14, 0),\n",
       " datetime.datetime(2019, 5, 17, 17, 5),\n",
       " datetime.datetime(2019, 5, 17, 12, 25),\n",
       " datetime.datetime(2019, 5, 17, 19, 50),\n",
       " datetime.datetime(2019, 5, 17, 18, 30),\n",
       " datetime.datetime(2019, 5, 17, 12, 30),\n",
       " datetime.datetime(2019, 5, 17, 14, 10),\n",
       " datetime.datetime(2019, 5, 17, 4, 55),\n",
       " datetime.datetime(2019, 5, 17, 21, 5),\n",
       " datetime.datetime(2019, 5, 17, 14, 35),\n",
       " datetime.datetime(2019, 5, 17, 10, 50),\n",
       " datetime.datetime(2019, 5, 17, 20, 5),\n",
       " datetime.datetime(2019, 5, 17, 19, 55),\n",
       " datetime.datetime(2019, 5, 17, 4, 15),\n",
       " datetime.datetime(2019, 5, 17, 3, 25),\n",
       " ...]"
      ]
     },
     "metadata": {},
     "execution_count": 14
    }
   ],
   "source": [
    "list(map(lambda x: datetime.strptime(x, '%Y-%m-%d %H:%M:%S'), list(df['flight_datetime'].values())))"
   ]
  },
  {
   "cell_type": "code",
   "execution_count": 5,
   "metadata": {},
   "outputs": [
    {
     "output_type": "execute_result",
     "data": {
      "text/plain": [
       "Narrow_Body    719\n",
       "Regional       178\n",
       "Wide_Body      112\n",
       "Name: class, dtype: int64"
      ]
     },
     "metadata": {},
     "execution_count": 5
    }
   ],
   "source": [
    "pd.DataFrame({'class':df['aircraft_class'].values()})['class'].value_counts()"
   ]
  },
  {
   "cell_type": "code",
   "execution_count": 4,
   "metadata": {},
   "outputs": [
    {
     "output_type": "execute_result",
     "data": {
      "text/plain": [
       "dict_values(['Narrow_Body', 'Regional', 'Narrow_Body', 'Regional', 'Narrow_Body', 'Narrow_Body', 'Narrow_Body', 'Narrow_Body', 'Narrow_Body', 'Narrow_Body', 'Narrow_Body', 'Narrow_Body', 'Narrow_Body', 'Narrow_Body', 'Narrow_Body', 'Narrow_Body', 'Narrow_Body', 'Narrow_Body', 'Narrow_Body', 'Narrow_Body', 'Narrow_Body', 'Narrow_Body', 'Narrow_Body', 'Narrow_Body', 'Narrow_Body', 'Narrow_Body', 'Narrow_Body', 'Narrow_Body', 'Narrow_Body', 'Narrow_Body', 'Narrow_Body', 'Narrow_Body', 'Narrow_Body', 'Narrow_Body', 'Narrow_Body', 'Narrow_Body', 'Narrow_Body', 'Narrow_Body', 'Narrow_Body', 'Narrow_Body', 'Narrow_Body', 'Narrow_Body', 'Wide_Body', 'Wide_Body', 'Wide_Body', 'Wide_Body', 'Wide_Body', 'Wide_Body', 'Wide_Body', 'Wide_Body', 'Wide_Body', 'Narrow_Body', 'Wide_Body', 'Narrow_Body', 'Narrow_Body', 'Narrow_Body', 'Narrow_Body', 'Narrow_Body', 'Wide_Body', 'Regional', 'Wide_Body', 'Regional', 'Regional', 'Regional', 'Narrow_Body', 'Regional', 'Regional', 'Regional', 'Narrow_Body', 'Regional', 'Regional', 'Regional', 'Narrow_Body', 'Narrow_Body', 'Narrow_Body', 'Narrow_Body', 'Regional', 'Narrow_Body', 'Narrow_Body', 'Narrow_Body', 'Regional', 'Regional', 'Regional', 'Regional', 'Regional', 'Regional', 'Narrow_Body', 'Narrow_Body', 'Regional', 'Regional', 'Regional', 'Wide_Body', 'Regional', 'Wide_Body', 'Regional', 'Regional', 'Wide_Body', 'Wide_Body', 'Wide_Body', 'Narrow_Body', 'Wide_Body', 'Wide_Body', 'Narrow_Body', 'Wide_Body', 'Narrow_Body', 'Wide_Body', 'Narrow_Body', 'Wide_Body', 'Wide_Body', 'Wide_Body', 'Wide_Body', 'Wide_Body', 'Narrow_Body', 'Narrow_Body', 'Regional', 'Regional', 'Narrow_Body', 'Narrow_Body', 'Wide_Body', 'Wide_Body', 'Wide_Body', 'Narrow_Body', 'Wide_Body', 'Narrow_Body', 'Regional', 'Regional', 'Narrow_Body', 'Narrow_Body', 'Wide_Body', 'Wide_Body', 'Wide_Body', 'Wide_Body', 'Narrow_Body', 'Narrow_Body', 'Wide_Body', 'Wide_Body', 'Wide_Body', 'Wide_Body', 'Wide_Body', 'Wide_Body', 'Wide_Body', 'Wide_Body', 'Wide_Body', 'Wide_Body', 'Wide_Body', 'Wide_Body', 'Narrow_Body', 'Wide_Body', 'Wide_Body', 'Narrow_Body', 'Regional', 'Regional', 'Regional', 'Regional', 'Wide_Body', 'Wide_Body', 'Narrow_Body', 'Narrow_Body', 'Narrow_Body', 'Regional', 'Regional', 'Narrow_Body', 'Narrow_Body', 'Regional', 'Regional', 'Narrow_Body', 'Narrow_Body', 'Narrow_Body', 'Narrow_Body', 'Narrow_Body', 'Narrow_Body', 'Narrow_Body', 'Narrow_Body', 'Narrow_Body', 'Narrow_Body', 'Narrow_Body', 'Narrow_Body', 'Wide_Body', 'Narrow_Body', 'Narrow_Body', 'Narrow_Body', 'Narrow_Body', 'Narrow_Body', 'Narrow_Body', 'Wide_Body', 'Wide_Body', 'Wide_Body', 'Wide_Body', 'Wide_Body', 'Wide_Body', 'Narrow_Body', 'Narrow_Body', 'Narrow_Body', 'Narrow_Body', 'Narrow_Body', 'Narrow_Body', 'Narrow_Body', 'Narrow_Body', 'Narrow_Body', 'Narrow_Body', 'Narrow_Body', 'Narrow_Body', 'Narrow_Body', 'Regional', 'Regional', 'Narrow_Body', 'Narrow_Body', 'Narrow_Body', 'Narrow_Body', 'Narrow_Body', 'Narrow_Body', 'Regional', 'Regional', 'Regional', 'Regional', 'Wide_Body', 'Wide_Body', 'Narrow_Body', 'Narrow_Body', 'Narrow_Body', 'Narrow_Body', 'Narrow_Body', 'Narrow_Body', 'Regional', 'Regional', 'Regional', 'Regional', 'Regional', 'Regional', 'Regional', 'Regional', 'Regional', 'Regional', 'Narrow_Body', 'Narrow_Body', 'Narrow_Body', 'Narrow_Body', 'Narrow_Body', 'Narrow_Body', 'Narrow_Body', 'Narrow_Body', 'Narrow_Body', 'Narrow_Body', 'Narrow_Body', 'Narrow_Body', 'Narrow_Body', 'Narrow_Body', 'Narrow_Body', 'Narrow_Body', 'Wide_Body', 'Wide_Body', 'Wide_Body', 'Wide_Body', 'Narrow_Body', 'Narrow_Body', 'Regional', 'Regional', 'Narrow_Body', 'Narrow_Body', 'Narrow_Body', 'Narrow_Body', 'Narrow_Body', 'Narrow_Body', 'Narrow_Body', 'Narrow_Body', 'Narrow_Body', 'Narrow_Body', 'Narrow_Body', 'Narrow_Body', 'Regional', 'Regional', 'Narrow_Body', 'Narrow_Body', 'Narrow_Body', 'Narrow_Body', 'Narrow_Body', 'Narrow_Body', 'Narrow_Body', 'Narrow_Body', 'Narrow_Body', 'Narrow_Body', 'Narrow_Body', 'Narrow_Body', 'Regional', 'Regional', 'Narrow_Body', 'Narrow_Body', 'Narrow_Body', 'Narrow_Body', 'Narrow_Body', 'Narrow_Body', 'Narrow_Body', 'Narrow_Body', 'Wide_Body', 'Wide_Body', 'Narrow_Body', 'Narrow_Body', 'Narrow_Body', 'Narrow_Body', 'Narrow_Body', 'Narrow_Body', 'Narrow_Body', 'Narrow_Body', 'Narrow_Body', 'Narrow_Body', 'Narrow_Body', 'Narrow_Body', 'Regional', 'Regional', 'Narrow_Body', 'Narrow_Body', 'Narrow_Body', 'Narrow_Body', 'Narrow_Body', 'Narrow_Body', 'Narrow_Body', 'Narrow_Body', 'Narrow_Body', 'Narrow_Body', 'Narrow_Body', 'Narrow_Body', 'Regional', 'Regional', 'Narrow_Body', 'Narrow_Body', 'Narrow_Body', 'Narrow_Body', 'Regional', 'Regional', 'Narrow_Body', 'Narrow_Body', 'Narrow_Body', 'Narrow_Body', 'Regional', 'Regional', 'Narrow_Body', 'Narrow_Body', 'Narrow_Body', 'Narrow_Body', 'Narrow_Body', 'Narrow_Body', 'Narrow_Body', 'Narrow_Body', 'Regional', 'Regional', 'Narrow_Body', 'Narrow_Body', 'Narrow_Body', 'Narrow_Body', 'Regional', 'Regional', 'Narrow_Body', 'Narrow_Body', 'Narrow_Body', 'Narrow_Body', 'Narrow_Body', 'Narrow_Body', 'Narrow_Body', 'Narrow_Body', 'Regional', 'Regional', 'Regional', 'Regional', 'Narrow_Body', 'Narrow_Body', 'Narrow_Body', 'Narrow_Body', 'Narrow_Body', 'Narrow_Body', 'Narrow_Body', 'Narrow_Body', 'Narrow_Body', 'Narrow_Body', 'Regional', 'Regional', 'Regional', 'Regional', 'Narrow_Body', 'Narrow_Body', 'Narrow_Body', 'Narrow_Body', 'Regional', 'Regional', 'Regional', 'Regional', 'Narrow_Body', 'Narrow_Body', 'Narrow_Body', 'Narrow_Body', 'Narrow_Body', 'Narrow_Body', 'Narrow_Body', 'Narrow_Body', 'Narrow_Body', 'Narrow_Body', 'Narrow_Body', 'Narrow_Body', 'Regional', 'Regional', 'Narrow_Body', 'Narrow_Body', 'Narrow_Body', 'Narrow_Body', 'Regional', 'Regional', 'Narrow_Body', 'Narrow_Body', 'Narrow_Body', 'Narrow_Body', 'Narrow_Body', 'Narrow_Body', 'Regional', 'Regional', 'Regional', 'Regional', 'Regional', 'Regional', 'Regional', 'Regional', 'Regional', 'Regional', 'Regional', 'Regional', 'Narrow_Body', 'Narrow_Body', 'Narrow_Body', 'Narrow_Body', 'Narrow_Body', 'Narrow_Body', 'Narrow_Body', 'Narrow_Body', 'Narrow_Body', 'Regional', 'Narrow_Body', 'Narrow_Body', 'Narrow_Body', 'Narrow_Body', 'Narrow_Body', 'Narrow_Body', 'Regional', 'Regional', 'Regional', 'Regional', 'Regional', 'Regional', 'Regional', 'Narrow_Body', 'Narrow_Body', 'Regional', 'Regional', 'Regional', 'Regional', 'Regional', 'Regional', 'Regional', 'Regional', 'Regional', 'Regional', 'Regional', 'Regional', 'Regional', 'Regional', 'Regional', 'Regional', 'Regional', 'Regional', 'Regional', 'Regional', 'Regional', 'Regional', 'Regional', 'Regional', 'Narrow_Body', 'Narrow_Body', 'Regional', 'Regional', 'Regional', 'Regional', 'Regional', 'Regional', 'Narrow_Body', 'Narrow_Body', 'Narrow_Body', 'Regional', 'Narrow_Body', 'Narrow_Body', 'Narrow_Body', 'Narrow_Body', 'Narrow_Body', 'Narrow_Body', 'Narrow_Body', 'Narrow_Body', 'Narrow_Body', 'Narrow_Body', 'Narrow_Body', 'Narrow_Body', 'Narrow_Body', 'Narrow_Body', 'Narrow_Body', 'Narrow_Body', 'Narrow_Body', 'Narrow_Body', 'Narrow_Body', 'Narrow_Body', 'Narrow_Body', 'Narrow_Body', 'Regional', 'Narrow_Body', 'Narrow_Body', 'Narrow_Body', 'Narrow_Body', 'Narrow_Body', 'Regional', 'Regional', 'Narrow_Body', 'Narrow_Body', 'Regional', 'Regional', 'Narrow_Body', 'Narrow_Body', 'Wide_Body', 'Wide_Body', 'Narrow_Body', 'Narrow_Body', 'Narrow_Body', 'Narrow_Body', 'Narrow_Body', 'Narrow_Body', 'Narrow_Body', 'Narrow_Body', 'Narrow_Body', 'Narrow_Body', 'Regional', 'Regional', 'Narrow_Body', 'Narrow_Body', 'Narrow_Body', 'Narrow_Body', 'Narrow_Body', 'Narrow_Body', 'Wide_Body', 'Wide_Body', 'Narrow_Body', 'Narrow_Body', 'Regional', 'Regional', 'Narrow_Body', 'Regional', 'Narrow_Body', 'Narrow_Body', 'Narrow_Body', 'Narrow_Body', 'Narrow_Body', 'Narrow_Body', 'Narrow_Body', 'Narrow_Body', 'Regional', 'Regional', 'Narrow_Body', 'Narrow_Body', 'Narrow_Body', 'Narrow_Body', 'Narrow_Body', 'Narrow_Body', 'Narrow_Body', 'Narrow_Body', 'Narrow_Body', 'Narrow_Body', 'Narrow_Body', 'Narrow_Body', 'Narrow_Body', 'Narrow_Body', 'Narrow_Body', 'Narrow_Body', 'Narrow_Body', 'Narrow_Body', 'Narrow_Body', 'Narrow_Body', 'Narrow_Body', 'Narrow_Body', 'Narrow_Body', 'Narrow_Body', 'Narrow_Body', 'Narrow_Body', 'Narrow_Body', 'Narrow_Body', 'Narrow_Body', 'Narrow_Body', 'Narrow_Body', 'Narrow_Body', 'Narrow_Body', 'Narrow_Body', 'Narrow_Body', 'Narrow_Body', 'Narrow_Body', 'Narrow_Body', 'Regional', 'Regional', 'Narrow_Body', 'Narrow_Body', 'Narrow_Body', 'Narrow_Body', 'Narrow_Body', 'Narrow_Body', 'Narrow_Body', 'Narrow_Body', 'Wide_Body', 'Wide_Body', 'Wide_Body', 'Wide_Body', 'Wide_Body', 'Wide_Body', 'Wide_Body', 'Wide_Body', 'Narrow_Body', 'Narrow_Body', 'Narrow_Body', 'Narrow_Body', 'Narrow_Body', 'Narrow_Body', 'Narrow_Body', 'Narrow_Body', 'Narrow_Body', 'Narrow_Body', 'Wide_Body', 'Wide_Body', 'Wide_Body', 'Wide_Body', 'Wide_Body', 'Narrow_Body', 'Narrow_Body', 'Narrow_Body', 'Narrow_Body', 'Regional', 'Regional', 'Regional', 'Regional', 'Narrow_Body', 'Narrow_Body', 'Narrow_Body', 'Narrow_Body', 'Narrow_Body', 'Narrow_Body', 'Narrow_Body', 'Narrow_Body', 'Narrow_Body', 'Narrow_Body', 'Narrow_Body', 'Narrow_Body', 'Narrow_Body', 'Narrow_Body', 'Narrow_Body', 'Narrow_Body', 'Narrow_Body', 'Narrow_Body', 'Narrow_Body', 'Narrow_Body', 'Narrow_Body', 'Narrow_Body', 'Wide_Body', 'Wide_Body', 'Narrow_Body', 'Narrow_Body', 'Narrow_Body', 'Narrow_Body', 'Narrow_Body', 'Narrow_Body', 'Narrow_Body', 'Narrow_Body', 'Narrow_Body', 'Narrow_Body', 'Narrow_Body', 'Narrow_Body', 'Narrow_Body', 'Narrow_Body', 'Narrow_Body', 'Narrow_Body', 'Narrow_Body', 'Regional', 'Regional', 'Regional', 'Regional', 'Narrow_Body', 'Narrow_Body', 'Narrow_Body', 'Narrow_Body', 'Narrow_Body', 'Narrow_Body', 'Narrow_Body', 'Narrow_Body', 'Narrow_Body', 'Narrow_Body', 'Narrow_Body', 'Narrow_Body', 'Narrow_Body', 'Narrow_Body', 'Narrow_Body', 'Narrow_Body', 'Narrow_Body', 'Narrow_Body', 'Narrow_Body', 'Narrow_Body', 'Narrow_Body', 'Narrow_Body', 'Narrow_Body', 'Narrow_Body', 'Narrow_Body', 'Narrow_Body', 'Narrow_Body', 'Narrow_Body', 'Narrow_Body', 'Narrow_Body', 'Narrow_Body', 'Narrow_Body', 'Regional', 'Narrow_Body', 'Narrow_Body', 'Narrow_Body', 'Narrow_Body', 'Narrow_Body', 'Narrow_Body', 'Narrow_Body', 'Narrow_Body', 'Narrow_Body', 'Narrow_Body', 'Narrow_Body', 'Narrow_Body', 'Narrow_Body', 'Narrow_Body', 'Narrow_Body', 'Narrow_Body', 'Narrow_Body', 'Narrow_Body', 'Narrow_Body', 'Regional', 'Regional', 'Narrow_Body', 'Narrow_Body', 'Narrow_Body', 'Narrow_Body', 'Narrow_Body', 'Narrow_Body', 'Narrow_Body', 'Narrow_Body', 'Narrow_Body', 'Regional', 'Narrow_Body', 'Narrow_Body', 'Narrow_Body', 'Narrow_Body', 'Narrow_Body', 'Narrow_Body', 'Narrow_Body', 'Narrow_Body', 'Narrow_Body', 'Narrow_Body', 'Narrow_Body', 'Narrow_Body', 'Narrow_Body', 'Narrow_Body', 'Narrow_Body', 'Narrow_Body', 'Narrow_Body', 'Narrow_Body', 'Narrow_Body', 'Narrow_Body', 'Narrow_Body', 'Narrow_Body', 'Narrow_Body', 'Narrow_Body', 'Regional', 'Regional', 'Narrow_Body', 'Narrow_Body', 'Narrow_Body', 'Narrow_Body', 'Regional', 'Narrow_Body', 'Narrow_Body', 'Narrow_Body', 'Narrow_Body', 'Narrow_Body', 'Narrow_Body', 'Regional', 'Regional', 'Regional', 'Regional', 'Narrow_Body', 'Narrow_Body', 'Regional', 'Regional', 'Narrow_Body', 'Narrow_Body', 'Narrow_Body', 'Narrow_Body', 'Narrow_Body', 'Narrow_Body', 'Narrow_Body', 'Narrow_Body', 'Narrow_Body', 'Narrow_Body', 'Narrow_Body', 'Narrow_Body', 'Narrow_Body', 'Narrow_Body', 'Narrow_Body', 'Narrow_Body', 'Narrow_Body', 'Narrow_Body', 'Narrow_Body', 'Narrow_Body', 'Narrow_Body', 'Narrow_Body', 'Narrow_Body', 'Narrow_Body', 'Narrow_Body', 'Narrow_Body', 'Regional', 'Regional', 'Narrow_Body', 'Narrow_Body', 'Narrow_Body', 'Narrow_Body', 'Narrow_Body', 'Narrow_Body', 'Narrow_Body', 'Narrow_Body', 'Narrow_Body', 'Narrow_Body', 'Narrow_Body', 'Narrow_Body', 'Narrow_Body', 'Narrow_Body', 'Narrow_Body', 'Narrow_Body', 'Narrow_Body', 'Narrow_Body', 'Narrow_Body', 'Narrow_Body', 'Narrow_Body', 'Narrow_Body', 'Narrow_Body', 'Narrow_Body', 'Narrow_Body', 'Narrow_Body', 'Narrow_Body', 'Narrow_Body', 'Narrow_Body', 'Narrow_Body', 'Narrow_Body', 'Narrow_Body', 'Narrow_Body', 'Narrow_Body', 'Narrow_Body', 'Narrow_Body', 'Narrow_Body', 'Narrow_Body', 'Narrow_Body', 'Narrow_Body', 'Narrow_Body', 'Narrow_Body', 'Narrow_Body', 'Narrow_Body', 'Narrow_Body', 'Narrow_Body', 'Narrow_Body', 'Narrow_Body', 'Narrow_Body', 'Narrow_Body', 'Narrow_Body', 'Narrow_Body', 'Narrow_Body', 'Narrow_Body', 'Narrow_Body', 'Narrow_Body', 'Narrow_Body', 'Narrow_Body', 'Narrow_Body', 'Narrow_Body', 'Narrow_Body', 'Narrow_Body', 'Narrow_Body', 'Narrow_Body', 'Narrow_Body', 'Narrow_Body', 'Narrow_Body', 'Narrow_Body', 'Wide_Body', 'Narrow_Body', 'Narrow_Body', 'Narrow_Body', 'Narrow_Body', 'Narrow_Body', 'Narrow_Body', 'Narrow_Body', 'Narrow_Body', 'Narrow_Body', 'Narrow_Body', 'Narrow_Body', 'Narrow_Body', 'Narrow_Body', 'Narrow_Body', 'Narrow_Body', 'Narrow_Body', 'Narrow_Body', 'Regional', 'Narrow_Body', 'Narrow_Body', 'Narrow_Body', 'Wide_Body', 'Wide_Body', 'Wide_Body', 'Wide_Body', 'Narrow_Body', 'Wide_Body', 'Wide_Body', 'Narrow_Body', 'Narrow_Body', 'Narrow_Body', 'Narrow_Body', 'Narrow_Body', 'Narrow_Body', 'Narrow_Body', 'Narrow_Body', 'Narrow_Body', 'Narrow_Body', 'Narrow_Body', 'Narrow_Body', 'Narrow_Body', 'Narrow_Body', 'Narrow_Body', 'Narrow_Body', 'Narrow_Body', 'Narrow_Body', 'Narrow_Body', 'Narrow_Body', 'Narrow_Body', 'Narrow_Body', 'Narrow_Body', 'Narrow_Body', 'Narrow_Body', 'Narrow_Body', 'Narrow_Body', 'Narrow_Body', 'Narrow_Body', 'Narrow_Body', 'Narrow_Body', 'Narrow_Body', 'Narrow_Body', 'Narrow_Body', 'Narrow_Body', 'Narrow_Body', 'Narrow_Body', 'Narrow_Body', 'Narrow_Body', 'Narrow_Body', 'Narrow_Body', 'Narrow_Body', 'Narrow_Body', 'Regional', 'Regional', 'Narrow_Body', 'Narrow_Body', 'Narrow_Body', 'Narrow_Body', 'Narrow_Body', 'Narrow_Body', 'Narrow_Body', 'Narrow_Body', 'Narrow_Body', 'Narrow_Body', 'Narrow_Body', 'Narrow_Body', 'Narrow_Body', 'Narrow_Body', 'Narrow_Body', 'Narrow_Body', 'Narrow_Body', 'Narrow_Body', 'Narrow_Body', 'Narrow_Body', 'Narrow_Body', 'Narrow_Body', 'Narrow_Body', 'Wide_Body', 'Wide_Body', 'Wide_Body', 'Wide_Body', 'Wide_Body', 'Wide_Body', 'Wide_Body', 'Wide_Body', 'Wide_Body', 'Wide_Body', 'Wide_Body', 'Narrow_Body', 'Narrow_Body', 'Narrow_Body', 'Wide_Body', 'Narrow_Body', 'Wide_Body', 'Wide_Body', 'Wide_Body', 'Wide_Body', 'Wide_Body', 'Wide_Body', 'Wide_Body', 'Wide_Body', 'Wide_Body'])"
      ]
     },
     "metadata": {},
     "execution_count": 4
    }
   ],
   "source": [
    "df['aircraft_class'].values()"
   ]
  },
  {
   "cell_type": "code",
   "execution_count": 6,
   "metadata": {},
   "outputs": [],
   "source": [
    "d = model.Data()\n",
    "aircraft_classes = d.get_aircraft_classes()"
   ]
  },
  {
   "cell_type": "code",
   "execution_count": 20,
   "metadata": {},
   "outputs": [],
   "source": [
    "aircraft_class_dict = dict()\n",
    "for (flight_number, capacity_of_flight) in df['flight_AC_PAX_capacity_total'].items(): #self.FLIGHTS_DATA['flight_AC_PAX_capacity_total'].items():\n",
    "    for (aircraft_class, number_seats) in aircraft_classes['Max_Seats'].items(): #self.AIRCRAFT_CLASSES_DATA['Max_Seats'].items():\n",
    "        if capacity_of_flight <= number_seats:\n",
    "            aircraft_class_dict.update({flight_number: aircraft_class })\n",
    "            break\n",
    "df['aircraft_class'] = aircraft_class_dict"
   ]
  },
  {
   "cell_type": "code",
   "execution_count": 21,
   "metadata": {},
   "outputs": [
    {
     "output_type": "execute_result",
     "data": {
      "text/plain": [
       "Narrow_Body    719\n",
       "Regional       178\n",
       "Wide_Body      112\n",
       "Name: class, dtype: int64"
      ]
     },
     "metadata": {},
     "execution_count": 21
    }
   ],
   "source": [
    "pd.DataFrame({'class':aircraft_class_dict.values()})['class'].value_counts()"
   ]
  },
  {
   "cell_type": "code",
   "execution_count": 124,
   "metadata": {},
   "outputs": [],
   "source": [
    "df = d.get_aircraft_classes()"
   ]
  },
  {
   "cell_type": "code",
   "execution_count": 125,
   "metadata": {},
   "outputs": [
    {
     "output_type": "execute_result",
     "data": {
      "text/plain": [
       "{'Max_Seats': {'Regional': 120, 'Narrow_Body': 220, 'Wide_Body': 1000}}"
      ]
     },
     "metadata": {},
     "execution_count": 125
    }
   ],
   "source": [
    "df"
   ]
  },
  {
   "cell_type": "code",
   "execution_count": 18,
   "metadata": {},
   "outputs": [
    {
     "output_type": "execute_result",
     "data": {
      "text/plain": [
       "('2019-05-17 00:05:00', '2019-05-17 23:55:00')"
      ]
     },
     "metadata": {},
     "execution_count": 18
    }
   ],
   "source": [
    "min(df['flight_datetime'].values()), max(df['flight_datetime'].values())"
   ]
  },
  {
   "cell_type": "code",
   "execution_count": 21,
   "metadata": {},
   "outputs": [
    {
     "output_type": "execute_result",
     "data": {
      "text/plain": [
       "datetime.datetime(2019, 5, 17, 23, 55)"
      ]
     },
     "metadata": {},
     "execution_count": 21
    }
   ],
   "source": [
    "datetime.strptime('2019-05-17 23:55:00', '%Y-%m-%d %H:%M:%S')"
   ]
  },
  {
   "cell_type": "code",
   "execution_count": 17,
   "metadata": {},
   "outputs": [
    {
     "output_type": "execute_result",
     "data": {
      "text/plain": [
       "dict_keys(['flight_AD', 'flight_datetime', 'flight_AL_Synchron_code', 'flight_ID', 'flight_terminal_#', 'flight_AP', 'flight_AC_Synchron_code', 'flight_AC_PAX_capacity_total', 'flight_PAX'])"
      ]
     },
     "metadata": {},
     "execution_count": 17
    }
   ],
   "source": [
    "df.keys()"
   ]
  },
  {
   "cell_type": "code",
   "execution_count": 20,
   "metadata": {},
   "outputs": [
    {
     "output_type": "execute_result",
     "data": {
      "text/plain": [
       "'2019-05-17 19:15:00'"
      ]
     },
     "metadata": {},
     "execution_count": 20
    }
   ],
   "source": [
    "df['flight_datetime'][2]"
   ]
  },
  {
   "cell_type": "code",
   "execution_count": 118,
   "metadata": {},
   "outputs": [],
   "source": [
    "df = pd.read_csv('../data/Timetable_Public.csv')"
   ]
  },
  {
   "cell_type": "code",
   "execution_count": 117,
   "metadata": {},
   "outputs": [],
   "source": [
    "flights_dict = df.to_dict()"
   ]
  },
  {
   "cell_type": "code",
   "execution_count": 119,
   "metadata": {},
   "outputs": [],
   "source": [
    "df = df.reset_index(drop=True)\n",
    "df['index'] = df.index\n",
    "df.drop(['Aircraft_Stand'], axis=1, inplace=True)\n",
    "flights_dict  = df.to_dict()"
   ]
  },
  {
   "cell_type": "code",
   "execution_count": 120,
   "metadata": {},
   "outputs": [
    {
     "output_type": "execute_result",
     "data": {
      "text/plain": [
       "dict_keys([0, 1, 2, 3, 4, 5, 6, 7, 8, 9, 10, 11, 12, 13, 14, 15, 16, 17, 18, 19, 20, 21, 22, 23, 24, 25, 26, 27, 28, 29, 30, 31, 32, 33, 34, 35, 36, 37, 38, 39, 40, 41, 42, 43, 44, 45, 46, 47, 48, 49, 50, 51, 52, 53, 54, 55, 56, 57, 58, 59, 60, 61, 62, 63, 64, 65, 66, 67, 68, 69, 70, 71, 72, 73, 74, 75, 76, 77, 78, 79, 80, 81, 82, 83, 84, 85, 86, 87, 88, 89, 90, 91, 92, 93, 94, 95, 96, 97, 98, 99, 100, 101, 102, 103, 104, 105, 106, 107, 108, 109, 110, 111, 112, 113, 114, 115, 116, 117, 118, 119, 120, 121, 122, 123, 124, 125, 126, 127, 128, 129, 130, 131, 132, 133, 134, 135, 136, 137, 138, 139, 140, 141, 142, 143, 144, 145, 146, 147, 148, 149, 150, 151, 152, 153, 154, 155, 156, 157, 158, 159, 160, 161, 162, 163, 164, 165, 166, 167, 168, 169, 170, 171, 172, 173, 174, 175, 176, 177, 178, 179, 180, 181, 182, 183, 184, 185, 186, 187, 188, 189, 190, 191, 192, 193, 194, 195, 196, 197, 198, 199, 200, 201, 202, 203, 204, 205, 206, 207, 208, 209, 210, 211, 212, 213, 214, 215, 216, 217, 218, 219, 220, 221, 222, 223, 224, 225, 226, 227, 228, 229, 230, 231, 232, 233, 234, 235, 236, 237, 238, 239, 240, 241, 242, 243, 244, 245, 246, 247, 248, 249, 250, 251, 252, 253, 254, 255, 256, 257, 258, 259, 260, 261, 262, 263, 264, 265, 266, 267, 268, 269, 270, 271, 272, 273, 274, 275, 276, 277, 278, 279, 280, 281, 282, 283, 284, 285, 286, 287, 288, 289, 290, 291, 292, 293, 294, 295, 296, 297, 298, 299, 300, 301, 302, 303, 304, 305, 306, 307, 308, 309, 310, 311, 312, 313, 314, 315, 316, 317, 318, 319, 320, 321, 322, 323, 324, 325, 326, 327, 328, 329, 330, 331, 332, 333, 334, 335, 336, 337, 338, 339, 340, 341, 342, 343, 344, 345, 346, 347, 348, 349, 350, 351, 352, 353, 354, 355, 356, 357, 358, 359, 360, 361, 362, 363, 364, 365, 366, 367, 368, 369, 370, 371, 372, 373, 374, 375, 376, 377, 378, 379, 380, 381, 382, 383, 384, 385, 386, 387, 388, 389, 390, 391, 392, 393, 394, 395, 396, 397, 398, 399, 400, 401, 402, 403, 404, 405, 406, 407, 408, 409, 410, 411, 412, 413, 414, 415, 416, 417, 418, 419, 420, 421, 422, 423, 424, 425, 426, 427, 428, 429, 430, 431, 432, 433, 434, 435, 436, 437, 438, 439, 440, 441, 442, 443, 444, 445, 446, 447, 448, 449, 450, 451, 452, 453, 454, 455, 456, 457, 458, 459, 460, 461, 462, 463, 464, 465, 466, 467, 468, 469, 470, 471, 472, 473, 474, 475, 476, 477, 478, 479, 480, 481, 482, 483, 484, 485, 486, 487, 488, 489, 490, 491, 492, 493, 494, 495, 496, 497, 498, 499, 500, 501, 502, 503, 504, 505, 506, 507, 508, 509, 510, 511, 512, 513, 514, 515, 516, 517, 518, 519, 520, 521, 522, 523, 524, 525, 526, 527, 528, 529, 530, 531, 532, 533, 534, 535, 536, 537, 538, 539, 540, 541, 542, 543, 544, 545, 546, 547, 548, 549, 550, 551, 552, 553, 554, 555, 556, 557, 558, 559, 560, 561, 562, 563, 564, 565, 566, 567, 568, 569, 570, 571, 572, 573, 574, 575, 576, 577, 578, 579, 580, 581, 582, 583, 584, 585, 586, 587, 588, 589, 590, 591, 592, 593, 594, 595, 596, 597, 598, 599, 600, 601, 602, 603, 604, 605, 606, 607, 608, 609, 610, 611, 612, 613, 614, 615, 616, 617, 618, 619, 620, 621, 622, 623, 624, 625, 626, 627, 628, 629, 630, 631, 632, 633, 634, 635, 636, 637, 638, 639, 640, 641, 642, 643, 644, 645, 646, 647, 648, 649, 650, 651, 652, 653, 654, 655, 656, 657, 658, 659, 660, 661, 662, 663, 664, 665, 666, 667, 668, 669, 670, 671, 672, 673, 674, 675, 676, 677, 678, 679, 680, 681, 682, 683, 684, 685, 686, 687, 688, 689, 690, 691, 692, 693, 694, 695, 696, 697, 698, 699, 700, 701, 702, 703, 704, 705, 706, 707, 708, 709, 710, 711, 712, 713, 714, 715, 716, 717, 718, 719, 720, 721, 722, 723, 724, 725, 726, 727, 728, 729, 730, 731, 732, 733, 734, 735, 736, 737, 738, 739, 740, 741, 742, 743, 744, 745, 746, 747, 748, 749, 750, 751, 752, 753, 754, 755, 756, 757, 758, 759, 760, 761, 762, 763, 764, 765, 766, 767, 768, 769, 770, 771, 772, 773, 774, 775, 776, 777, 778, 779, 780, 781, 782, 783, 784, 785, 786, 787, 788, 789, 790, 791, 792, 793, 794, 795, 796, 797, 798, 799, 800, 801, 802, 803, 804, 805, 806, 807, 808, 809, 810, 811, 812, 813, 814, 815, 816, 817, 818, 819, 820, 821, 822, 823, 824, 825, 826, 827, 828, 829, 830, 831, 832, 833, 834, 835, 836, 837, 838, 839, 840, 841, 842, 843, 844, 845, 846, 847, 848, 849, 850, 851, 852, 853, 854, 855, 856, 857, 858, 859, 860, 861, 862, 863, 864, 865, 866, 867, 868, 869, 870, 871, 872, 873, 874, 875, 876, 877, 878, 879, 880, 881, 882, 883, 884, 885, 886, 887, 888, 889, 890, 891, 892, 893, 894, 895, 896, 897, 898, 899, 900, 901, 902, 903, 904, 905, 906, 907, 908, 909, 910, 911, 912, 913, 914, 915, 916, 917, 918, 919, 920, 921, 922, 923, 924, 925, 926, 927, 928, 929, 930, 931, 932, 933, 934, 935, 936, 937, 938, 939, 940, 941, 942, 943, 944, 945, 946, 947, 948, 949, 950, 951, 952, 953, 954, 955, 956, 957, 958, 959, 960, 961, 962, 963, 964, 965, 966, 967, 968, 969, 970, 971, 972, 973, 974, 975, 976, 977, 978, 979, 980, 981, 982, 983, 984, 985, 986, 987, 988, 989, 990, 991, 992, 993, 994, 995, 996, 997, 998, 999, 1000, 1001, 1002, 1003, 1004, 1005, 1006, 1007, 1008])"
      ]
     },
     "metadata": {},
     "execution_count": 120
    }
   ],
   "source": [
    "flights_dict['flight_AC_PAX_capacity_total'].keys()"
   ]
  },
  {
   "cell_type": "code",
   "execution_count": null,
   "metadata": {},
   "outputs": [],
   "source": [
    "capacity_of_flight = flights_dict['flight_AC_PAX_capacity_total'][flight]\n",
    "# Если будут другие данные, то надо добавить сортировку!\n",
    "for (aircraft_class, number_seats) in self.AIRCRAFT_CLASSES_DATA['Max_Seats'].items():\n",
    "    if capacity_of_flight <= number_seats:\n",
    "        return aircraft_class"
   ]
  },
  {
   "cell_type": "code",
   "execution_count": 80,
   "metadata": {},
   "outputs": [
    {
     "output_type": "execute_result",
     "data": {
      "text/plain": [
       "'A'"
      ]
     },
     "metadata": {},
     "execution_count": 80
    }
   ],
   "source": [
    "flights_dict['flight_AD'][5]"
   ]
  },
  {
   "cell_type": "code",
   "execution_count": 66,
   "metadata": {},
   "outputs": [
    {
     "output_type": "execute_result",
     "data": {
      "text/plain": [
       "     flight_AD      flight_datetime flight_AL_Synchron_code  flight_number  \\\n",
       "1004         A  2019-05-17 02:45:00                      N4           7814   \n",
       "1005         A  2019-05-17 21:45:00                      CZ           8371   \n",
       "1006         D  2019-05-17 23:35:00                      CZ           8372   \n",
       "1007         D  2019-05-17 13:10:00                      ZF           9007   \n",
       "1008         A  2019-05-17 11:40:00                      ZF           9008   \n",
       "\n",
       "     flight_ID  flight_terminal_# flight_AP flight_AC_Synchron_code  \\\n",
       "1004         I                  2       AYT                     77W   \n",
       "1005         I                  3       SZX                     333   \n",
       "1006         I                  3       SZX                     333   \n",
       "1007         I                  2       AYT                     75W   \n",
       "1008         I                  2       AYT                     75W   \n",
       "\n",
       "      flight_AC_PAX_capacity_total  flight_PAX  Aircraft_Stand  \n",
       "1004                           486         393             NaN  \n",
       "1005                           284         228             NaN  \n",
       "1006                           284         198             NaN  \n",
       "1007                           238         191             NaN  \n",
       "1008                           238         191             NaN  "
      ],
      "text/html": "<div>\n<style scoped>\n    .dataframe tbody tr th:only-of-type {\n        vertical-align: middle;\n    }\n\n    .dataframe tbody tr th {\n        vertical-align: top;\n    }\n\n    .dataframe thead th {\n        text-align: right;\n    }\n</style>\n<table border=\"1\" class=\"dataframe\">\n  <thead>\n    <tr style=\"text-align: right;\">\n      <th></th>\n      <th>flight_AD</th>\n      <th>flight_datetime</th>\n      <th>flight_AL_Synchron_code</th>\n      <th>flight_number</th>\n      <th>flight_ID</th>\n      <th>flight_terminal_#</th>\n      <th>flight_AP</th>\n      <th>flight_AC_Synchron_code</th>\n      <th>flight_AC_PAX_capacity_total</th>\n      <th>flight_PAX</th>\n      <th>Aircraft_Stand</th>\n    </tr>\n  </thead>\n  <tbody>\n    <tr>\n      <th>1004</th>\n      <td>A</td>\n      <td>2019-05-17 02:45:00</td>\n      <td>N4</td>\n      <td>7814</td>\n      <td>I</td>\n      <td>2</td>\n      <td>AYT</td>\n      <td>77W</td>\n      <td>486</td>\n      <td>393</td>\n      <td>NaN</td>\n    </tr>\n    <tr>\n      <th>1005</th>\n      <td>A</td>\n      <td>2019-05-17 21:45:00</td>\n      <td>CZ</td>\n      <td>8371</td>\n      <td>I</td>\n      <td>3</td>\n      <td>SZX</td>\n      <td>333</td>\n      <td>284</td>\n      <td>228</td>\n      <td>NaN</td>\n    </tr>\n    <tr>\n      <th>1006</th>\n      <td>D</td>\n      <td>2019-05-17 23:35:00</td>\n      <td>CZ</td>\n      <td>8372</td>\n      <td>I</td>\n      <td>3</td>\n      <td>SZX</td>\n      <td>333</td>\n      <td>284</td>\n      <td>198</td>\n      <td>NaN</td>\n    </tr>\n    <tr>\n      <th>1007</th>\n      <td>D</td>\n      <td>2019-05-17 13:10:00</td>\n      <td>ZF</td>\n      <td>9007</td>\n      <td>I</td>\n      <td>2</td>\n      <td>AYT</td>\n      <td>75W</td>\n      <td>238</td>\n      <td>191</td>\n      <td>NaN</td>\n    </tr>\n    <tr>\n      <th>1008</th>\n      <td>A</td>\n      <td>2019-05-17 11:40:00</td>\n      <td>ZF</td>\n      <td>9008</td>\n      <td>I</td>\n      <td>2</td>\n      <td>AYT</td>\n      <td>75W</td>\n      <td>238</td>\n      <td>191</td>\n      <td>NaN</td>\n    </tr>\n  </tbody>\n</table>\n</div>"
     },
     "metadata": {},
     "execution_count": 66
    }
   ],
   "source": [
    "df.tail()"
   ]
  },
  {
   "cell_type": "code",
   "execution_count": 70,
   "metadata": {},
   "outputs": [],
   "source": [
    "aircraft_stands_pd = pd.read_csv('../data/Aircraft_Stands_Public.csv')\n",
    "aircraft_stands_dict  = aircraft_stands_pd.set_index('Aircraft_Stand').to_dict()"
   ]
  },
  {
   "cell_type": "code",
   "execution_count": 78,
   "metadata": {},
   "outputs": [
    {
     "output_type": "execute_result",
     "data": {
      "text/plain": [
       "5"
      ]
     },
     "metadata": {},
     "execution_count": 78
    }
   ],
   "source": [
    "aircraft_stands_dict['Taxiing_Time'][5]"
   ]
  },
  {
   "cell_type": "code",
   "execution_count": 75,
   "metadata": {},
   "outputs": [
    {
     "output_type": "execute_result",
     "data": {
      "text/plain": [
       "dict_keys(['JetBridge_on_Arrival', 'JetBridge_on_Departure', '1', '2', '3', '4', '5', 'Terminal', 'Taxiing_Time'])"
      ]
     },
     "metadata": {},
     "execution_count": 75
    }
   ],
   "source": [
    "aircraft_stands_dict.keys()"
   ]
  },
  {
   "cell_type": "code",
   "execution_count": 73,
   "metadata": {},
   "outputs": [
    {
     "output_type": "execute_result",
     "data": {
      "text/plain": [
       "   Aircraft_Stand JetBridge_on_Arrival JetBridge_on_Departure   1   2  3   4  \\\n",
       "0               1                    N                      N  25  15  5  25   \n",
       "1               2                    N                      N  25  15  5  25   \n",
       "\n",
       "    5  Terminal  Taxiing_Time  \n",
       "0  10       NaN             5  \n",
       "1  10       NaN             5  "
      ],
      "text/html": "<div>\n<style scoped>\n    .dataframe tbody tr th:only-of-type {\n        vertical-align: middle;\n    }\n\n    .dataframe tbody tr th {\n        vertical-align: top;\n    }\n\n    .dataframe thead th {\n        text-align: right;\n    }\n</style>\n<table border=\"1\" class=\"dataframe\">\n  <thead>\n    <tr style=\"text-align: right;\">\n      <th></th>\n      <th>Aircraft_Stand</th>\n      <th>JetBridge_on_Arrival</th>\n      <th>JetBridge_on_Departure</th>\n      <th>1</th>\n      <th>2</th>\n      <th>3</th>\n      <th>4</th>\n      <th>5</th>\n      <th>Terminal</th>\n      <th>Taxiing_Time</th>\n    </tr>\n  </thead>\n  <tbody>\n    <tr>\n      <th>0</th>\n      <td>1</td>\n      <td>N</td>\n      <td>N</td>\n      <td>25</td>\n      <td>15</td>\n      <td>5</td>\n      <td>25</td>\n      <td>10</td>\n      <td>NaN</td>\n      <td>5</td>\n    </tr>\n    <tr>\n      <th>1</th>\n      <td>2</td>\n      <td>N</td>\n      <td>N</td>\n      <td>25</td>\n      <td>15</td>\n      <td>5</td>\n      <td>25</td>\n      <td>10</td>\n      <td>NaN</td>\n      <td>5</td>\n    </tr>\n  </tbody>\n</table>\n</div>"
     },
     "metadata": {},
     "execution_count": 73
    }
   ],
   "source": [
    "aircraft_stands_pd.head(2)"
   ]
  },
  {
   "cell_type": "code",
   "execution_count": 41,
   "metadata": {},
   "outputs": [],
   "source": [
    "d_df = pd.DataFrame(df['flight_number'].value_counts())"
   ]
  },
  {
   "cell_type": "code",
   "execution_count": 44,
   "metadata": {},
   "outputs": [
    {
     "output_type": "execute_result",
     "data": {
      "text/plain": [
       "(965, 1)"
      ]
     },
     "metadata": {},
     "execution_count": 44
    }
   ],
   "source": [
    "d_df[d_df.flight_number<2].shape"
   ]
  },
  {
   "cell_type": "code",
   "execution_count": null,
   "metadata": {},
   "outputs": [],
   "source": [
    "965 + 4 +"
   ]
  },
  {
   "cell_type": "code",
   "execution_count": 56,
   "metadata": {},
   "outputs": [],
   "source": [
    "list_1 = list(d_df[d_df.flight_number == 1].index)"
   ]
  },
  {
   "cell_type": "code",
   "execution_count": 58,
   "metadata": {},
   "outputs": [
    {
     "output_type": "execute_result",
     "data": {
      "text/plain": [
       "D    487\n",
       "A    478\n",
       "Name: flight_AD, dtype: int64"
      ]
     },
     "metadata": {},
     "execution_count": 58
    }
   ],
   "source": [
    "df[df.flight_number.isin(list_1)].flight_AD.value_counts()"
   ]
  },
  {
   "cell_type": "code",
   "execution_count": 59,
   "metadata": {},
   "outputs": [
    {
     "output_type": "execute_result",
     "data": {
      "text/plain": [
       "    flight_AD      flight_datetime flight_AL_Synchron_code  flight_number  \\\n",
       "1           D  2019-05-17 06:00:00                      SU              2   \n",
       "2           D  2019-05-17 19:15:00                      U6              2   \n",
       "51          D  2019-05-17 07:00:00                      N4            123   \n",
       "52          A  2019-05-17 17:20:00                      SU            123   \n",
       "59          A  2019-05-17 08:00:00                      D2            151   \n",
       "60          A  2019-05-17 09:00:00                      SU            151   \n",
       "67          A  2019-05-17 16:15:00                      D2            165   \n",
       "68          D  2019-05-17 17:50:00                      N4            165   \n",
       "91          D  2019-05-17 12:20:00                      SU            200   \n",
       "92          A  2019-05-17 22:30:00                      EO            200   \n",
       "93          A  2019-05-17 06:00:00                      SU            201   \n",
       "94          D  2019-05-17 23:30:00                      EO            201   \n",
       "95          A  2019-05-17 05:15:00                      EO            202   \n",
       "96          D  2019-05-17 15:35:00                      SU            202   \n",
       "99          D  2019-05-17 04:05:00                      N4            205   \n",
       "100         A  2019-05-17 14:45:00                      SU            205   \n",
       "101         D  2019-05-17 09:30:00                      SU            206   \n",
       "102         A  2019-05-17 14:00:00                      N4            206   \n",
       "103         A  2019-05-17 05:45:00                      SU            207   \n",
       "104         D  2019-05-17 20:15:00                      EO            207   \n",
       "105         D  2019-05-17 20:05:00                      SU            208   \n",
       "106         A  2019-05-17 23:55:00                      EO            208   \n",
       "120         D  2019-05-17 12:35:00                      SU            234   \n",
       "121         D  2019-05-17 18:10:00                      BA            234   \n",
       "122         A  2019-05-17 07:45:00                      SU            235   \n",
       "123         A  2019-05-17 16:50:00                      BA            235   \n",
       "198         D  2019-05-17 11:50:00                      N4            523   \n",
       "199         A  2019-05-17 13:45:00                      SU            523   \n",
       "200         A  2019-05-17 17:55:00                      N4            524   \n",
       "201         D  2019-05-17 18:40:00                      SU            524   \n",
       "317         A  2019-05-17 00:05:00                      AF           1144   \n",
       "318         D  2019-05-17 21:50:00                      SU           1144   \n",
       "319         A  2019-05-17 08:25:00                      SU           1145   \n",
       "320         D  2019-05-17 08:45:00                      AF           1145   \n",
       "639         A  2019-05-17 01:35:00                      AF           1844   \n",
       "640         D  2019-05-17 22:45:00                      SU           1844   \n",
       "641         A  2019-05-17 05:55:00                      SU           1845   \n",
       "642         D  2019-05-17 06:10:00                      AF           1845   \n",
       "\n",
       "    flight_ID  flight_terminal_# flight_AP flight_AC_Synchron_code  \\\n",
       "1           D                  1       LED                     SU9   \n",
       "2           D                  3       SIP                     320   \n",
       "51          D                  3       SIP                     73H   \n",
       "52          I                  3       JFK                     333   \n",
       "59          D                  3       CEE                     SU9   \n",
       "60          I                  3       HAV                     332   \n",
       "67          D                  3       CEE                     CR2   \n",
       "68          D                  3       KZN                     73H   \n",
       "91          I                  3       PEK                     333   \n",
       "92          D                  3       SKX                     E90   \n",
       "93          I                  2       PEK                     333   \n",
       "94          D                  3       PEE                     E90   \n",
       "95          D                  3       PEE                     E90   \n",
       "96          I                  3       PEK                     333   \n",
       "99          I                  2       SKD                     73H   \n",
       "100         I                  3       PEK                     77W   \n",
       "101         I                  2       PVG                     77W   \n",
       "102         I                  2       SKD                     73H   \n",
       "103         I                  3       PVG                     77W   \n",
       "104         D                  3       LED                     73H   \n",
       "105         I                  2       PVG                     77W   \n",
       "106         D                  3       LED                     73H   \n",
       "120         I                  3       DEL                     333   \n",
       "121         I                  5       LHR                     321   \n",
       "122         I                  3       DEL                     333   \n",
       "123         I                  5       LHR                     321   \n",
       "198         D                  3       SIP                     73H   \n",
       "199         I                  5       DWC                     73H   \n",
       "200         D                  3       SIP                     73H   \n",
       "201         I                  5       DXB                     73H   \n",
       "317         I                  5       CDG                     319   \n",
       "318         D                  1       AAQ                     73H   \n",
       "319         D                  1       AAQ                     73H   \n",
       "320         I                  5       CDG                     32A   \n",
       "639         I                  5       CDG                     32A   \n",
       "640         I                  3       KIV                     32A   \n",
       "641         I                  3       KIV                     32A   \n",
       "642         I                  5       CDG                     319   \n",
       "\n",
       "     flight_AC_PAX_capacity_total  flight_PAX  Aircraft_Stand  \n",
       "1                              87          77             NaN  \n",
       "2                             160         129             NaN  \n",
       "51                            189         139             NaN  \n",
       "52                            296         273             NaN  \n",
       "59                            100          34             NaN  \n",
       "60                            229         191             NaN  \n",
       "67                             50          29             NaN  \n",
       "68                            189         144             NaN  \n",
       "91                            296         156             NaN  \n",
       "92                            110          68             NaN  \n",
       "93                            296         270             NaN  \n",
       "94                            110         107             NaN  \n",
       "95                            110         108             NaN  \n",
       "96                            296         200             NaN  \n",
       "99                            189         119             NaN  \n",
       "100                           402         357             NaN  \n",
       "101                           402         235             NaN  \n",
       "102                           189         180             NaN  \n",
       "103                           402         388             NaN  \n",
       "104                           189         181             NaN  \n",
       "105                           402         332             NaN  \n",
       "106                           189         180             NaN  \n",
       "120                           302         103             NaN  \n",
       "121                           154         100             NaN  \n",
       "122                           302         289             NaN  \n",
       "123                           154         125             NaN  \n",
       "198                           189         163             NaN  \n",
       "199                           158         152             NaN  \n",
       "200                           189         137             NaN  \n",
       "201                           158          74             NaN  \n",
       "317                           143         129             NaN  \n",
       "318                           158         145             NaN  \n",
       "319                           158          58             NaN  \n",
       "320                           174         140             NaN  \n",
       "639                           174         156             NaN  \n",
       "640                           158         136             NaN  \n",
       "641                           158         135             NaN  \n",
       "642                           143         116             NaN  "
      ],
      "text/html": "<div>\n<style scoped>\n    .dataframe tbody tr th:only-of-type {\n        vertical-align: middle;\n    }\n\n    .dataframe tbody tr th {\n        vertical-align: top;\n    }\n\n    .dataframe thead th {\n        text-align: right;\n    }\n</style>\n<table border=\"1\" class=\"dataframe\">\n  <thead>\n    <tr style=\"text-align: right;\">\n      <th></th>\n      <th>flight_AD</th>\n      <th>flight_datetime</th>\n      <th>flight_AL_Synchron_code</th>\n      <th>flight_number</th>\n      <th>flight_ID</th>\n      <th>flight_terminal_#</th>\n      <th>flight_AP</th>\n      <th>flight_AC_Synchron_code</th>\n      <th>flight_AC_PAX_capacity_total</th>\n      <th>flight_PAX</th>\n      <th>Aircraft_Stand</th>\n    </tr>\n  </thead>\n  <tbody>\n    <tr>\n      <th>1</th>\n      <td>D</td>\n      <td>2019-05-17 06:00:00</td>\n      <td>SU</td>\n      <td>2</td>\n      <td>D</td>\n      <td>1</td>\n      <td>LED</td>\n      <td>SU9</td>\n      <td>87</td>\n      <td>77</td>\n      <td>NaN</td>\n    </tr>\n    <tr>\n      <th>2</th>\n      <td>D</td>\n      <td>2019-05-17 19:15:00</td>\n      <td>U6</td>\n      <td>2</td>\n      <td>D</td>\n      <td>3</td>\n      <td>SIP</td>\n      <td>320</td>\n      <td>160</td>\n      <td>129</td>\n      <td>NaN</td>\n    </tr>\n    <tr>\n      <th>51</th>\n      <td>D</td>\n      <td>2019-05-17 07:00:00</td>\n      <td>N4</td>\n      <td>123</td>\n      <td>D</td>\n      <td>3</td>\n      <td>SIP</td>\n      <td>73H</td>\n      <td>189</td>\n      <td>139</td>\n      <td>NaN</td>\n    </tr>\n    <tr>\n      <th>52</th>\n      <td>A</td>\n      <td>2019-05-17 17:20:00</td>\n      <td>SU</td>\n      <td>123</td>\n      <td>I</td>\n      <td>3</td>\n      <td>JFK</td>\n      <td>333</td>\n      <td>296</td>\n      <td>273</td>\n      <td>NaN</td>\n    </tr>\n    <tr>\n      <th>59</th>\n      <td>A</td>\n      <td>2019-05-17 08:00:00</td>\n      <td>D2</td>\n      <td>151</td>\n      <td>D</td>\n      <td>3</td>\n      <td>CEE</td>\n      <td>SU9</td>\n      <td>100</td>\n      <td>34</td>\n      <td>NaN</td>\n    </tr>\n    <tr>\n      <th>60</th>\n      <td>A</td>\n      <td>2019-05-17 09:00:00</td>\n      <td>SU</td>\n      <td>151</td>\n      <td>I</td>\n      <td>3</td>\n      <td>HAV</td>\n      <td>332</td>\n      <td>229</td>\n      <td>191</td>\n      <td>NaN</td>\n    </tr>\n    <tr>\n      <th>67</th>\n      <td>A</td>\n      <td>2019-05-17 16:15:00</td>\n      <td>D2</td>\n      <td>165</td>\n      <td>D</td>\n      <td>3</td>\n      <td>CEE</td>\n      <td>CR2</td>\n      <td>50</td>\n      <td>29</td>\n      <td>NaN</td>\n    </tr>\n    <tr>\n      <th>68</th>\n      <td>D</td>\n      <td>2019-05-17 17:50:00</td>\n      <td>N4</td>\n      <td>165</td>\n      <td>D</td>\n      <td>3</td>\n      <td>KZN</td>\n      <td>73H</td>\n      <td>189</td>\n      <td>144</td>\n      <td>NaN</td>\n    </tr>\n    <tr>\n      <th>91</th>\n      <td>D</td>\n      <td>2019-05-17 12:20:00</td>\n      <td>SU</td>\n      <td>200</td>\n      <td>I</td>\n      <td>3</td>\n      <td>PEK</td>\n      <td>333</td>\n      <td>296</td>\n      <td>156</td>\n      <td>NaN</td>\n    </tr>\n    <tr>\n      <th>92</th>\n      <td>A</td>\n      <td>2019-05-17 22:30:00</td>\n      <td>EO</td>\n      <td>200</td>\n      <td>D</td>\n      <td>3</td>\n      <td>SKX</td>\n      <td>E90</td>\n      <td>110</td>\n      <td>68</td>\n      <td>NaN</td>\n    </tr>\n    <tr>\n      <th>93</th>\n      <td>A</td>\n      <td>2019-05-17 06:00:00</td>\n      <td>SU</td>\n      <td>201</td>\n      <td>I</td>\n      <td>2</td>\n      <td>PEK</td>\n      <td>333</td>\n      <td>296</td>\n      <td>270</td>\n      <td>NaN</td>\n    </tr>\n    <tr>\n      <th>94</th>\n      <td>D</td>\n      <td>2019-05-17 23:30:00</td>\n      <td>EO</td>\n      <td>201</td>\n      <td>D</td>\n      <td>3</td>\n      <td>PEE</td>\n      <td>E90</td>\n      <td>110</td>\n      <td>107</td>\n      <td>NaN</td>\n    </tr>\n    <tr>\n      <th>95</th>\n      <td>A</td>\n      <td>2019-05-17 05:15:00</td>\n      <td>EO</td>\n      <td>202</td>\n      <td>D</td>\n      <td>3</td>\n      <td>PEE</td>\n      <td>E90</td>\n      <td>110</td>\n      <td>108</td>\n      <td>NaN</td>\n    </tr>\n    <tr>\n      <th>96</th>\n      <td>D</td>\n      <td>2019-05-17 15:35:00</td>\n      <td>SU</td>\n      <td>202</td>\n      <td>I</td>\n      <td>3</td>\n      <td>PEK</td>\n      <td>333</td>\n      <td>296</td>\n      <td>200</td>\n      <td>NaN</td>\n    </tr>\n    <tr>\n      <th>99</th>\n      <td>D</td>\n      <td>2019-05-17 04:05:00</td>\n      <td>N4</td>\n      <td>205</td>\n      <td>I</td>\n      <td>2</td>\n      <td>SKD</td>\n      <td>73H</td>\n      <td>189</td>\n      <td>119</td>\n      <td>NaN</td>\n    </tr>\n    <tr>\n      <th>100</th>\n      <td>A</td>\n      <td>2019-05-17 14:45:00</td>\n      <td>SU</td>\n      <td>205</td>\n      <td>I</td>\n      <td>3</td>\n      <td>PEK</td>\n      <td>77W</td>\n      <td>402</td>\n      <td>357</td>\n      <td>NaN</td>\n    </tr>\n    <tr>\n      <th>101</th>\n      <td>D</td>\n      <td>2019-05-17 09:30:00</td>\n      <td>SU</td>\n      <td>206</td>\n      <td>I</td>\n      <td>2</td>\n      <td>PVG</td>\n      <td>77W</td>\n      <td>402</td>\n      <td>235</td>\n      <td>NaN</td>\n    </tr>\n    <tr>\n      <th>102</th>\n      <td>A</td>\n      <td>2019-05-17 14:00:00</td>\n      <td>N4</td>\n      <td>206</td>\n      <td>I</td>\n      <td>2</td>\n      <td>SKD</td>\n      <td>73H</td>\n      <td>189</td>\n      <td>180</td>\n      <td>NaN</td>\n    </tr>\n    <tr>\n      <th>103</th>\n      <td>A</td>\n      <td>2019-05-17 05:45:00</td>\n      <td>SU</td>\n      <td>207</td>\n      <td>I</td>\n      <td>3</td>\n      <td>PVG</td>\n      <td>77W</td>\n      <td>402</td>\n      <td>388</td>\n      <td>NaN</td>\n    </tr>\n    <tr>\n      <th>104</th>\n      <td>D</td>\n      <td>2019-05-17 20:15:00</td>\n      <td>EO</td>\n      <td>207</td>\n      <td>D</td>\n      <td>3</td>\n      <td>LED</td>\n      <td>73H</td>\n      <td>189</td>\n      <td>181</td>\n      <td>NaN</td>\n    </tr>\n    <tr>\n      <th>105</th>\n      <td>D</td>\n      <td>2019-05-17 20:05:00</td>\n      <td>SU</td>\n      <td>208</td>\n      <td>I</td>\n      <td>2</td>\n      <td>PVG</td>\n      <td>77W</td>\n      <td>402</td>\n      <td>332</td>\n      <td>NaN</td>\n    </tr>\n    <tr>\n      <th>106</th>\n      <td>A</td>\n      <td>2019-05-17 23:55:00</td>\n      <td>EO</td>\n      <td>208</td>\n      <td>D</td>\n      <td>3</td>\n      <td>LED</td>\n      <td>73H</td>\n      <td>189</td>\n      <td>180</td>\n      <td>NaN</td>\n    </tr>\n    <tr>\n      <th>120</th>\n      <td>D</td>\n      <td>2019-05-17 12:35:00</td>\n      <td>SU</td>\n      <td>234</td>\n      <td>I</td>\n      <td>3</td>\n      <td>DEL</td>\n      <td>333</td>\n      <td>302</td>\n      <td>103</td>\n      <td>NaN</td>\n    </tr>\n    <tr>\n      <th>121</th>\n      <td>D</td>\n      <td>2019-05-17 18:10:00</td>\n      <td>BA</td>\n      <td>234</td>\n      <td>I</td>\n      <td>5</td>\n      <td>LHR</td>\n      <td>321</td>\n      <td>154</td>\n      <td>100</td>\n      <td>NaN</td>\n    </tr>\n    <tr>\n      <th>122</th>\n      <td>A</td>\n      <td>2019-05-17 07:45:00</td>\n      <td>SU</td>\n      <td>235</td>\n      <td>I</td>\n      <td>3</td>\n      <td>DEL</td>\n      <td>333</td>\n      <td>302</td>\n      <td>289</td>\n      <td>NaN</td>\n    </tr>\n    <tr>\n      <th>123</th>\n      <td>A</td>\n      <td>2019-05-17 16:50:00</td>\n      <td>BA</td>\n      <td>235</td>\n      <td>I</td>\n      <td>5</td>\n      <td>LHR</td>\n      <td>321</td>\n      <td>154</td>\n      <td>125</td>\n      <td>NaN</td>\n    </tr>\n    <tr>\n      <th>198</th>\n      <td>D</td>\n      <td>2019-05-17 11:50:00</td>\n      <td>N4</td>\n      <td>523</td>\n      <td>D</td>\n      <td>3</td>\n      <td>SIP</td>\n      <td>73H</td>\n      <td>189</td>\n      <td>163</td>\n      <td>NaN</td>\n    </tr>\n    <tr>\n      <th>199</th>\n      <td>A</td>\n      <td>2019-05-17 13:45:00</td>\n      <td>SU</td>\n      <td>523</td>\n      <td>I</td>\n      <td>5</td>\n      <td>DWC</td>\n      <td>73H</td>\n      <td>158</td>\n      <td>152</td>\n      <td>NaN</td>\n    </tr>\n    <tr>\n      <th>200</th>\n      <td>A</td>\n      <td>2019-05-17 17:55:00</td>\n      <td>N4</td>\n      <td>524</td>\n      <td>D</td>\n      <td>3</td>\n      <td>SIP</td>\n      <td>73H</td>\n      <td>189</td>\n      <td>137</td>\n      <td>NaN</td>\n    </tr>\n    <tr>\n      <th>201</th>\n      <td>D</td>\n      <td>2019-05-17 18:40:00</td>\n      <td>SU</td>\n      <td>524</td>\n      <td>I</td>\n      <td>5</td>\n      <td>DXB</td>\n      <td>73H</td>\n      <td>158</td>\n      <td>74</td>\n      <td>NaN</td>\n    </tr>\n    <tr>\n      <th>317</th>\n      <td>A</td>\n      <td>2019-05-17 00:05:00</td>\n      <td>AF</td>\n      <td>1144</td>\n      <td>I</td>\n      <td>5</td>\n      <td>CDG</td>\n      <td>319</td>\n      <td>143</td>\n      <td>129</td>\n      <td>NaN</td>\n    </tr>\n    <tr>\n      <th>318</th>\n      <td>D</td>\n      <td>2019-05-17 21:50:00</td>\n      <td>SU</td>\n      <td>1144</td>\n      <td>D</td>\n      <td>1</td>\n      <td>AAQ</td>\n      <td>73H</td>\n      <td>158</td>\n      <td>145</td>\n      <td>NaN</td>\n    </tr>\n    <tr>\n      <th>319</th>\n      <td>A</td>\n      <td>2019-05-17 08:25:00</td>\n      <td>SU</td>\n      <td>1145</td>\n      <td>D</td>\n      <td>1</td>\n      <td>AAQ</td>\n      <td>73H</td>\n      <td>158</td>\n      <td>58</td>\n      <td>NaN</td>\n    </tr>\n    <tr>\n      <th>320</th>\n      <td>D</td>\n      <td>2019-05-17 08:45:00</td>\n      <td>AF</td>\n      <td>1145</td>\n      <td>I</td>\n      <td>5</td>\n      <td>CDG</td>\n      <td>32A</td>\n      <td>174</td>\n      <td>140</td>\n      <td>NaN</td>\n    </tr>\n    <tr>\n      <th>639</th>\n      <td>A</td>\n      <td>2019-05-17 01:35:00</td>\n      <td>AF</td>\n      <td>1844</td>\n      <td>I</td>\n      <td>5</td>\n      <td>CDG</td>\n      <td>32A</td>\n      <td>174</td>\n      <td>156</td>\n      <td>NaN</td>\n    </tr>\n    <tr>\n      <th>640</th>\n      <td>D</td>\n      <td>2019-05-17 22:45:00</td>\n      <td>SU</td>\n      <td>1844</td>\n      <td>I</td>\n      <td>3</td>\n      <td>KIV</td>\n      <td>32A</td>\n      <td>158</td>\n      <td>136</td>\n      <td>NaN</td>\n    </tr>\n    <tr>\n      <th>641</th>\n      <td>A</td>\n      <td>2019-05-17 05:55:00</td>\n      <td>SU</td>\n      <td>1845</td>\n      <td>I</td>\n      <td>3</td>\n      <td>KIV</td>\n      <td>32A</td>\n      <td>158</td>\n      <td>135</td>\n      <td>NaN</td>\n    </tr>\n    <tr>\n      <th>642</th>\n      <td>D</td>\n      <td>2019-05-17 06:10:00</td>\n      <td>AF</td>\n      <td>1845</td>\n      <td>I</td>\n      <td>5</td>\n      <td>CDG</td>\n      <td>319</td>\n      <td>143</td>\n      <td>116</td>\n      <td>NaN</td>\n    </tr>\n  </tbody>\n</table>\n</div>"
     },
     "metadata": {},
     "execution_count": 59
    }
   ],
   "source": [
    "df[df.flight_number.isin(list_2)].head(40)"
   ]
  },
  {
   "cell_type": "code",
   "execution_count": 40,
   "metadata": {},
   "outputs": [
    {
     "output_type": "execute_result",
     "data": {
      "text/plain": [
       "0          1\n",
       "1          2\n",
       "2          2\n",
       "3          3\n",
       "4          6\n",
       "        ... \n",
       "1004    7814\n",
       "1005    8371\n",
       "1006    8372\n",
       "1007    9007\n",
       "1008    9008\n",
       "Name: flight_number, Length: 1009, dtype: int64"
      ]
     },
     "metadata": {},
     "execution_count": 40
    }
   ],
   "source": [
    "df['flight_number']"
   ]
  },
  {
   "cell_type": "code",
   "execution_count": 39,
   "metadata": {},
   "outputs": [
    {
     "output_type": "execute_result",
     "data": {
      "text/plain": [
       "    flight_AD      flight_datetime flight_AL_Synchron_code  flight_number  \\\n",
       "133         A  2019-05-17 16:55:00                      SU            262   \n",
       "134         D  2019-05-17 17:10:00                      MU            262   \n",
       "135         D  2019-05-17 19:00:00                      SU            262   \n",
       "\n",
       "    flight_ID  flight_terminal_# flight_AP flight_AC_Synchron_code  \\\n",
       "133         I                  3       LHR                     320   \n",
       "134         I                  2       PVG                     333   \n",
       "135         I                  3       NRT                     77W   \n",
       "\n",
       "     flight_AC_PAX_capacity_total  flight_PAX  Aircraft_Stand  \n",
       "133                           140          62             NaN  \n",
       "134                           298         142             NaN  \n",
       "135                           402         255             NaN  "
      ],
      "text/html": "<div>\n<style scoped>\n    .dataframe tbody tr th:only-of-type {\n        vertical-align: middle;\n    }\n\n    .dataframe tbody tr th {\n        vertical-align: top;\n    }\n\n    .dataframe thead th {\n        text-align: right;\n    }\n</style>\n<table border=\"1\" class=\"dataframe\">\n  <thead>\n    <tr style=\"text-align: right;\">\n      <th></th>\n      <th>flight_AD</th>\n      <th>flight_datetime</th>\n      <th>flight_AL_Synchron_code</th>\n      <th>flight_number</th>\n      <th>flight_ID</th>\n      <th>flight_terminal_#</th>\n      <th>flight_AP</th>\n      <th>flight_AC_Synchron_code</th>\n      <th>flight_AC_PAX_capacity_total</th>\n      <th>flight_PAX</th>\n      <th>Aircraft_Stand</th>\n    </tr>\n  </thead>\n  <tbody>\n    <tr>\n      <th>133</th>\n      <td>A</td>\n      <td>2019-05-17 16:55:00</td>\n      <td>SU</td>\n      <td>262</td>\n      <td>I</td>\n      <td>3</td>\n      <td>LHR</td>\n      <td>320</td>\n      <td>140</td>\n      <td>62</td>\n      <td>NaN</td>\n    </tr>\n    <tr>\n      <th>134</th>\n      <td>D</td>\n      <td>2019-05-17 17:10:00</td>\n      <td>MU</td>\n      <td>262</td>\n      <td>I</td>\n      <td>2</td>\n      <td>PVG</td>\n      <td>333</td>\n      <td>298</td>\n      <td>142</td>\n      <td>NaN</td>\n    </tr>\n    <tr>\n      <th>135</th>\n      <td>D</td>\n      <td>2019-05-17 19:00:00</td>\n      <td>SU</td>\n      <td>262</td>\n      <td>I</td>\n      <td>3</td>\n      <td>NRT</td>\n      <td>77W</td>\n      <td>402</td>\n      <td>255</td>\n      <td>NaN</td>\n    </tr>\n  </tbody>\n</table>\n</div>"
     },
     "metadata": {},
     "execution_count": 39
    }
   ],
   "source": [
    "df[df.flight_number == 262]"
   ]
  },
  {
   "cell_type": "code",
   "execution_count": 28,
   "metadata": {},
   "outputs": [
    {
     "output_type": "execute_result",
     "data": {
      "text/plain": [
       "986"
      ]
     },
     "metadata": {},
     "execution_count": 28
    }
   ],
   "source": [
    "len(df['flight_number'].unique())"
   ]
  },
  {
   "cell_type": "code",
   "execution_count": 27,
   "metadata": {},
   "outputs": [
    {
     "output_type": "execute_result",
     "data": {
      "text/plain": [
       "73H    257\n",
       "32A    221\n",
       "SU9    128\n",
       "320     89\n",
       "32B     88\n",
       "333     41\n",
       "321     41\n",
       "E90     39\n",
       "77W     35\n",
       "332     11\n",
       "319      8\n",
       "CS3      8\n",
       "773      7\n",
       "772      7\n",
       "32Q      4\n",
       "752      4\n",
       "E95      4\n",
       "CR2      4\n",
       "763      3\n",
       "789      2\n",
       "733      2\n",
       "E75      2\n",
       "75W      2\n",
       "736      1\n",
       "738      1\n",
       "Name: flight_AC_Synchron_code, dtype: int64"
      ]
     },
     "metadata": {},
     "execution_count": 27
    }
   ],
   "source": [
    "df['flight_AC_Synchron_code'].value_counts()\n"
   ]
  },
  {
   "cell_type": "code",
   "execution_count": null,
   "metadata": {},
   "outputs": [],
   "source": []
  }
 ]
}